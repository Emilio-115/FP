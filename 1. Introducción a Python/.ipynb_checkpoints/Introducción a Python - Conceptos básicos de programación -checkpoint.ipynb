{
 "cells": [
  {
   "cell_type": "markdown",
   "metadata": {},
   "source": [
    "# Fundamentos de Programación\n",
    "# Una introducción a Python: Conceptos básicos de programación\n",
    "**Autor**: Fermín Cruz.   **Revisores**: José A. Troyano, Carlos G. Vallejo, Mariano González, Daniel Mateos.   **Última modificación:** 25 de septiembre de 2019"
   ]
  },
  {
   "cell_type": "markdown",
   "metadata": {},
   "source": [
    "Este documento está pensado para que comiences a comprender los programas escritos en el lenguaje Python, y a escribir tus primeros programas. No tienes que tener ningún conocimiento previo para entenderlo, aunque algunos de los conceptos son un poco abstractos, por lo que es posible que tengas que leer las explicaciones varias veces, y despacito... No pretendemos profundizar en ninguno de los contenidos que aquí se presentan, sino más bien dar un primer vistazo a lo que te puedes encontrar en un programa escrito en Python. Más adelante, iremos profundizando en cada uno de estos contenidos. \n",
    "\n",
    "\n",
    "Debes ir ejecutando cada una de las celdas de código\\* que vayas encontrado. Para hacer esto, puedes hacer clic en la celda en cuestión y luego en el botón con el icono de \"play\" que aparece en la barra de herramientas; también puedes pulsar las teclas \"Mayúsculas\" y \"Entrar\" al mismo tiempo. Si empiezas en la primera celda, puedes ir usando el mismo icono de \"play\" para ir ejecutando y avanzando a lo largo del notebook. Si \"ejecutas\" una celda como esta, que no contiene código, simplemente pasarás a la siguiente. **Debes ejecutar todas las celdas que contienen código**, si no lo haces es posible que algunos ejemplos de código\\* no funcionen. \n",
    "\n",
    "Los apartados marcados con el título **¡Prueba tú!** están pensados para que escribas pequeños trocitos de código\\*, de manera que compruebes si has comprendido lo que se te acaba de explicar. Es importante que no continúes leyendo hasta que no hayas resuelto lo que se te va pidiendo. Si no consigues resolver alguno de estos apartados, ya sabes: **pide ayuda a tu profesor**.\n",
    "\n",
    "\\* Cuando hablamos de \"código\" nos referimos a un trozo de texto sacado de un programa informático. En inglés, es frecuente usar el término **coding** para referirse al acto de escribir programas informáticos. Por cierto, ¿qué tal andas de inglés? Verás que gran parte de la información que hay que consultar para programar está en inglés, así que es mejor que te vayas acostumbrando...\n",
    "\n",
    "### ¿Empezamos?"
   ]
  },
  {
   "cell_type": "markdown",
   "metadata": {},
   "source": [
    "## 1. Instrucciones y funciones"
   ]
  },
  {
   "cell_type": "markdown",
   "metadata": {
    "nbpresent": {
     "id": "71219fc3-c9cb-4700-9f0b-ab38b1b223da"
    },
    "slideshow": {
     "slide_type": "-"
    }
   },
   "source": [
    "Un programa Python está formado por **instrucciones** (a veces también son llamadas **sentencias**). Cada instrucción se escribe normalmente en una línea. Por ejemplo, la siguiente instrucción sirve para imprimir el mensaje \"Hola, mundo!\" en la pantalla.\n",
    "\n",
    "Para ejecutar la instrucción, haz clic sobre la celda de abajo y luego pulsa el icono de \"play\" (también puedes pulsar las teclas \"Mayúsculas+Entrar\")."
   ]
  },
  {
   "cell_type": "code",
   "execution_count": null,
   "metadata": {
    "collapsed": true,
    "nbpresent": {
     "id": "ae8725fa-30f7-4d7f-a2c2-5f86953d730b"
    }
   },
   "outputs": [],
   "source": [
    "print(\"Hola, mundo!\")"
   ]
  },
  {
   "cell_type": "markdown",
   "metadata": {
    "nbpresent": {
     "id": "86423d42-e808-47e6-b1a7-e925e195f821"
    }
   },
   "source": [
    "Si en un programa hay varias instrucciones, estas se ejecutan secuencialmente, una tras otra."
   ]
  },
  {
   "cell_type": "code",
   "execution_count": null,
   "metadata": {
    "collapsed": true,
    "nbpresent": {
     "id": "d0569bb0-fad8-48b7-8d48-0066bfb90401"
    }
   },
   "outputs": [],
   "source": [
    "print(\"Hola, mundo!\")\n",
    "print(\"Adiós, mundo!\")"
   ]
  },
  {
   "cell_type": "markdown",
   "metadata": {
    "nbpresent": {
     "id": "7adaaf8f-a83e-456b-b99a-d3b3d4cb6d1a"
    }
   },
   "source": [
    "La instrucción que hemos usado en los ejemplos anteriores, **print** (que significa imprimir en inglés), es una **función predefinida** (*built-in function*). Una función puede ser \"llamada\" (también se dice \"invocada\") desde un programa escribiendo su nombre y a continuación unos paréntesis de apertura y cierre. En ocasiones, las funciones reciben **parámetros**, que se escriben en la llamada dentro de los paréntesis, separados por comas si hay más de uno."
   ]
  },
  {
   "cell_type": "markdown",
   "metadata": {},
   "source": [
    "### ¡Prueba tú!"
   ]
  },
  {
   "cell_type": "code",
   "execution_count": null,
   "metadata": {
    "collapsed": true
   },
   "outputs": [],
   "source": [
    "# Escribe una llamada a la función print para mostrar algún mensaje en pantalla.\n",
    "\n",
    "\n"
   ]
  },
  {
   "cell_type": "markdown",
   "metadata": {},
   "source": [
    "Hay muchas funciones predefinidas, por ejemplo la función **help** nos proporciona ayuda sobre cualquier otra función. "
   ]
  },
  {
   "cell_type": "code",
   "execution_count": null,
   "metadata": {
    "collapsed": true,
    "nbpresent": {
     "id": "998dc7f5-ab6d-4fb8-866f-4fa96a06aaaa"
    }
   },
   "outputs": [],
   "source": [
    "help(print)   # Nos muestra información de ayuda sobre la función predefinida print"
   ]
  },
  {
   "cell_type": "markdown",
   "metadata": {},
   "source": [
    "Por supuesto, la ayuda está en inglés. Habrá que acostumbrarse, porque la inmensa mayoría de documentación y ayudas que vas a encontrar para programar estará también en inglés..."
   ]
  },
  {
   "cell_type": "markdown",
   "metadata": {},
   "source": [
    "### ¡Prueba tú!"
   ]
  },
  {
   "cell_type": "code",
   "execution_count": null,
   "metadata": {
    "collapsed": true
   },
   "outputs": [],
   "source": [
    "# Haz que se muestre la ayuda disponible sobre la propia función help\n",
    "\n",
    "help(help)\n"
   ]
  },
  {
   "cell_type": "markdown",
   "metadata": {
    "nbpresent": {
     "id": "829150e0-712b-4739-92d6-37b9c3d789cb"
    }
   },
   "source": [
    "En el ejemplo anterior hemos usado el carácter almohadilla (#) para escribir un **comentario** sobre el código. Los comentarios se usan en los programas para hacer aclaraciones, explicar el funcionamiento y, en general, hacer más fácil de entender nuestros programas. \n",
    "\n",
    "Las funciones anteriores se llaman funciones predefinidas porque ya vienen incluidas \"por defecto\" en Python. Por contra, los programadores pueden **definir** sus propias **funciones**, como se muestra a continuación."
   ]
  },
  {
   "cell_type": "code",
   "execution_count": null,
   "metadata": {
    "collapsed": true,
    "nbpresent": {
     "id": "8dce188c-36b7-41fa-9020-b5cb5502e452"
    }
   },
   "outputs": [],
   "source": [
    "def saluda(nombre):\n",
    "    ''' \n",
    "    Esta función imprime un saludo personalizado con el nombre indicado mediante el parámetro \"nombre\".\n",
    "    '''\n",
    "    print(\"Hola, \" + nombre)"
   ]
  },
  {
   "cell_type": "markdown",
   "metadata": {
    "nbpresent": {
     "id": "35a148d4-f201-4441-bf5e-8a07f93dea84"
    }
   },
   "source": [
    "La función que acabamos de definir se llama *saluda* y recibe un único parámetro. Después de la primera línea (llamada **cabecera** o **prototipo** de la función) vienen una o varias instrucciones (llamadas **cuerpo** de la función), que serán ejecutadas cuando alguien llame a la función. Date cuenta de que las instrucciones que conforman el cuerpo de la función aparecen indentadas, es decir, tienen un tabulador delante. \n",
    "\n",
    "Las primeras líneas del cuerpo de la función, que comienzan y acaban con tres comillas simples, se llaman **comentario de documentación** de la función, y, aunque no son obligatorias, sí es recomendable incluirlas. Cuando alguien llame a la función predefinida *help* para pedir ayuda sobre nuestra función, se mostrará precisamente el texto aquí incluido.\n",
    "\n",
    "Lo que hará la función cuando alguien la llame será mostrar un mensaje de saludo. Hagamos una llamada para probar la función: prueba a escribir tu nombre entre las comillas."
   ]
  },
  {
   "cell_type": "code",
   "execution_count": null,
   "metadata": {
    "collapsed": true,
    "nbpresent": {
     "id": "85d1ab90-cc65-4935-808b-a6f57ecc892e"
    }
   },
   "outputs": [],
   "source": [
    "saluda(\"Fermín\")"
   ]
  },
  {
   "cell_type": "markdown",
   "metadata": {
    "nbpresent": {
     "id": "d99a804c-9444-418b-bc94-3c2f064e2844"
    }
   },
   "source": [
    "Al definir una función conseguimos reutilizar la funcionalidad implementada las veces que queramos, simplemente llamando a la función en las partes del programa en que necesitemos dicha funcionalidad. Por ejemplo, ahora puedo realizar varios saludos, uno tras otro:"
   ]
  },
  {
   "cell_type": "code",
   "execution_count": null,
   "metadata": {
    "collapsed": true,
    "nbpresent": {
     "id": "86172e20-fe16-447d-859f-24a81e563011"
    }
   },
   "outputs": [],
   "source": [
    "saluda(\"John\")\n",
    "saluda(\"Paul\")\n",
    "saluda(\"George\")\n",
    "saluda(\"Ringo\")"
   ]
  },
  {
   "cell_type": "markdown",
   "metadata": {},
   "source": [
    "### ¡Prueba tú!"
   ]
  },
  {
   "cell_type": "markdown",
   "metadata": {},
   "source": [
    "Define una función llamada *saluda_educado* que reciba un nombre como parámetro, imprima el mismo saludo personalizado que la función saluda, y a continuación imprima el texto \"Encantado de conocerle\".\n",
    "\n",
    "**¡Truco!:** puedes llamar a la función anterior *saluda* desde el cuerpo de la nueva función *saluda_educado*."
   ]
  },
  {
   "cell_type": "code",
   "execution_count": null,
   "metadata": {
    "collapsed": true
   },
   "outputs": [],
   "source": [
    "\n",
    "\n"
   ]
  },
  {
   "cell_type": "markdown",
   "metadata": {},
   "source": [
    "## 2. Expresiones y tipos"
   ]
  },
  {
   "cell_type": "markdown",
   "metadata": {
    "nbpresent": {
     "id": "9659b1c1-9aed-4d71-b830-4a60d408ad71"
    }
   },
   "source": [
    "En la instrucción que hemos escrito al definir la función *saluda*:\n",
    "```python \n",
    "print(\"Hola, \" + nombre)\n",
    "```\n",
    "\n",
    "hemos usado un **operador**, el signo +, que sirve para concatenar las dos cadenas de texto: la cadena *\"Hola, \"* y la cadena contenida en el parámetro *nombre*. \n",
    "\n",
    "El uso de operadores es habitual en todos los lenguajes de programación. Llamamos **expresiones** a las instrucciones formadas por operadores (como el +), literales (como la cadena *\"Hola, \"*) y variables (como el parámetro *nombre*) *[bueno, y más participantes que iremos viendo más adelante]*. Una expresión es siempre evaluada por Python, para obtener un resultado, antes de seguir ejecutando el resto de instrucciones del programa. \n",
    "\n",
    "Veamos algunos ejemplos de expresiones utilizando los **operadores aritméticos**. Prueba a cambiar los ejemplos que se muestran para experimentar un poco."
   ]
  },
  {
   "cell_type": "code",
   "execution_count": null,
   "metadata": {
    "collapsed": true,
    "nbpresent": {
     "id": "5a579720-fa62-4525-85e3-dd049cbd73be"
    }
   },
   "outputs": [],
   "source": [
    "3 + 5"
   ]
  },
  {
   "cell_type": "code",
   "execution_count": null,
   "metadata": {
    "collapsed": true,
    "nbpresent": {
     "id": "f6847886-4044-43a7-9edd-f18efddcb7a9"
    }
   },
   "outputs": [],
   "source": [
    "3 + 5 * 8"
   ]
  },
  {
   "cell_type": "code",
   "execution_count": null,
   "metadata": {
    "collapsed": true,
    "nbpresent": {
     "id": "5d433d13-f44a-45bb-91fd-406f60b33b67"
    }
   },
   "outputs": [],
   "source": [
    "(3 + 5) * 8"
   ]
  },
  {
   "cell_type": "code",
   "execution_count": null,
   "metadata": {
    "collapsed": true
   },
   "outputs": [],
   "source": [
    "(3 + 5) * 8 / 14"
   ]
  },
  {
   "cell_type": "markdown",
   "metadata": {},
   "source": [
    "### ¡Prueba tú!"
   ]
  },
  {
   "cell_type": "code",
   "execution_count": 6,
   "metadata": {
    "collapsed": true
   },
   "outputs": [
    {
     "name": "stdout",
     "output_type": "stream",
     "text": [
      "0\n"
     ]
    }
   ],
   "source": [
    "# Escribe alguna expresión usando operadores aritméticos. Además de los anteriores tienes los siguientes:\n",
    "# - // % **\n",
    "n = 8\n",
    "'''modulo = n%2\n",
    "if modulo==0:\n",
    "    print(n,'es par')\n",
    "else:\n",
    "    print(n,'es impar')'''\n",
    "\n",
    "def es_par(n):\n",
    "    if n%2==0:\n",
    "        print(n%2) \n",
    "es_par(8)           "
   ]
  },
  {
   "cell_type": "markdown",
   "metadata": {},
   "source": [
    "En las expresiones también podemos usar llamadas a funciones, siempre que sean funciones que devuelvan algún resultado. Para que una función devuelva un valor cuando sea invocada, usaremos la instrucción **return** en algún punto del cuerpo de la función (casi siempre, al final del cuerpo de la función). Por ejemplo:"
   ]
  },
  {
   "cell_type": "code",
   "execution_count": 8,
   "metadata": {
    "collapsed": true
   },
   "outputs": [
    {
     "name": "stdout",
     "output_type": "stream",
     "text": [
      "20\n"
     ]
    }
   ],
   "source": [
    "def doble(x):\n",
    "    return x * 2\n",
    "\n",
    "(doble(10)"
   ]
  },
  {
   "cell_type": "markdown",
   "metadata": {
    "nbpresent": {
     "id": "ee1bdf03-6e13-4f1f-9dc9-22d4e344fdba"
    }
   },
   "source": [
    "A veces necesitamos guardar el resultado de una expresión para utilizarlo más adelante en nuestro programa. Para esto se usan las **variables**. "
   ]
  },
  {
   "cell_type": "code",
   "execution_count": 9,
   "metadata": {
    "collapsed": true,
    "nbpresent": {
     "id": "14d1a927-b37f-4323-9404-17d453f3b487"
    }
   },
   "outputs": [
    {
     "name": "stdout",
     "output_type": "stream",
     "text": [
      "25.6\n"
     ]
    }
   ],
   "source": [
    "resultado = (3 + 5) * doble(8)\n",
    "print(resultado / 5)"
   ]
  },
  {
   "cell_type": "code",
   "execution_count": null,
   "metadata": {},
   "outputs": [],
   "source": [
    "def maximo(a, b):\n",
    "    pass #La funcion pass sirve para indicar que mas adelannte se añadira algo y que no de error."
   ]
  },
  {
   "cell_type": "markdown",
   "metadata": {
    "nbpresent": {
     "id": "c71a78d7-9d0e-4825-9c84-9998f971317d"
    }
   },
   "source": [
    "Hemos **asignado** a la variable *resultado* el valor de la expresión que hemos escrito a la derecha del carácter igual (=), de manera que más adelante en el programa podremos utilizar ese valor haciendo mención a la variable. A este carácter igual lo llamamos instrucción de **asignación**."
   ]
  },
  {
   "cell_type": "markdown",
   "metadata": {},
   "source": [
    "### ¡Prueba tú!"
   ]
  },
  {
   "cell_type": "markdown",
   "metadata": {},
   "source": [
    "Intenta definir una función de nombre *descuento* que reciba como parámetro un valor y un porcentaje y devuelva el resultado de aplicar el descuento correspondiente al porcentaje sobre el valor indicado."
   ]
  },
  {
   "cell_type": "code",
   "execution_count": 24,
   "metadata": {
    "collapsed": true
   },
   "outputs": [],
   "source": [
    "# Define aquí la función\n",
    "def descuento(valor,porcentaje):\n",
    "    #descontado=valor-(valor*porcentaje/100)\n",
    "    #return descontado\n",
    "    return valor-valor*porcentaje/100\n",
    "\n",
    "\n"
   ]
  },
  {
   "cell_type": "markdown",
   "metadata": {},
   "source": [
    "Cuando la termines de escribir, puedes ejecutar esta prueba:"
   ]
  },
  {
   "cell_type": "code",
   "execution_count": 25,
   "metadata": {
    "collapsed": true
   },
   "outputs": [
    {
     "name": "stdout",
     "output_type": "stream",
     "text": [
      "Precio con 10% de descuento: 180.0\n"
     ]
    }
   ],
   "source": [
    "precio = 200\n",
    "print(\"Precio con 10% de descuento:\", descuento(precio, 10))"
   ]
  },
  {
   "cell_type": "markdown",
   "metadata": {},
   "source": [
    "En los ejemplos anteriores, hemos utilizado **literales** de tipo **cadena de caracteres** (por ejemplo, *\"Hola, mundo!\"*) y literales de tipo número **entero** (por ejemplo, *3*, *5* y *8*). Hay más tipos de literales, por ejemplo literales de tipo número **real** o de tipo **lógico**: "
   ]
  },
  {
   "cell_type": "code",
   "execution_count": 28,
   "metadata": {
    "collapsed": true,
    "nbpresent": {
     "id": "80be6133-d85a-4e43-9964-6578abcbaaac"
    }
   },
   "outputs": [
    {
     "name": "stdout",
     "output_type": "stream",
     "text": [
      "El área del círculo es 7.0685775\n",
      "¿Es el área superior al umbral? False\n"
     ]
    }
   ],
   "source": [
    "PI = 3.14159\n",
    "radio = 1.5\n",
    "area = PI * radio**2   # El operador ** sirve para calcular potencias\n",
    "print(\"El área del círculo es\", area)\n",
    "\n",
    "umbral = 100.0\n",
    "area_superior_umbral = area > umbral  \n",
    "# El carácter > es un operador relacional, se evalúa como True (verdadero) o False (falso)\n",
    "print(\"¿Es el área superior al umbral?\", area_superior_umbral)"
   ]
  },
  {
   "cell_type": "markdown",
   "metadata": {},
   "source": [
    "## 3. Listas y tuplas"
   ]
  },
  {
   "cell_type": "markdown",
   "metadata": {
    "nbpresent": {
     "id": "9b7597e9-aaa9-4d9f-ba0d-22f43d1a3900"
    }
   },
   "source": [
    "Cuando necesitamos almacenar varios datos en una sola variable, utilizamos literales de tipo **lista**:"
   ]
  },
  {
   "cell_type": "code",
   "execution_count": 37,
   "metadata": {
    "collapsed": true,
    "nbpresent": {
     "id": "0281a659-abae-4cb9-b30f-b552b9db399e"
    }
   },
   "outputs": [
    {
     "name": "stdout",
     "output_type": "stream",
     "text": [
      "[28.5, 27.8, 29.5, 32.1, 30.7, 25.5, 26.0]\n"
     ]
    }
   ],
   "source": [
    "temperaturas = [28.5, 27.8, 29.5, 32.1, 30.7, 25.5, 26.0]\n",
    "#print(temperaturas)\n",
    "#temperaturas = list()\n",
    "print(temperaturas)"
   ]
  },
  {
   "cell_type": "code",
   "execution_count": 31,
   "metadata": {
    "collapsed": true
   },
   "outputs": [
    {
     "name": "stdout",
     "output_type": "stream",
     "text": [
      "['Spiderman', 'Iron Man', 'Lobezno', 'Capitán América', 'Hulk']\n"
     ]
    }
   ],
   "source": [
    "heroes = [\"Spiderman\", \"Iron Man\", \"Lobezno\", \"Capitán América\", \"Hulk\"]\n",
    "print(heroes)"
   ]
  },
  {
   "cell_type": "markdown",
   "metadata": {},
   "source": [
    "O, a veces, de tipo **tupla**, que se escriben igual pero usando paréntesis en lugar de corchetes:"
   ]
  },
  {
   "cell_type": "code",
   "execution_count": 33,
   "metadata": {
    "collapsed": true
   },
   "outputs": [
    {
     "name": "stdout",
     "output_type": "stream",
     "text": [
      "('Mark', 'Lenders')\n"
     ]
    }
   ],
   "source": [
    "usuario = (\"Mark\", \"Lenders\")\n",
    "print(usuario)"
   ]
  },
  {
   "cell_type": "markdown",
   "metadata": {},
   "source": [
    "Ambos, listas y tuplas, se parecen mucho (ya veremos algunas diferencias más adelante). Podemos acceder a un elemento concreto, indicando el **índice** de dicho elemento (es decir, la posición que ocupa dentro de la lista o tupla, contando desde la izquierda):"
   ]
  },
  {
   "cell_type": "code",
   "execution_count": 39,
   "metadata": {
    "collapsed": true
   },
   "outputs": [
    {
     "name": "stdout",
     "output_type": "stream",
     "text": [
      "28.5\n",
      "26.0\n",
      "25.5\n",
      "30.7\n",
      "6\n"
     ]
    }
   ],
   "source": [
    "print(temperaturas[0])   # La primera posición corresponde al índice 0\n",
    "print(temperaturas[-1])\n",
    "print(temperaturas[-2])\n",
    "print(temperaturas[4])\n",
    "print(temperaturas[len(temperaturas)-1])"
   ]
  },
  {
   "cell_type": "code",
   "execution_count": 34,
   "metadata": {
    "collapsed": true
   },
   "outputs": [
    {
     "data": {
      "text/plain": [
       "'Hulk'"
      ]
     },
     "execution_count": 34,
     "metadata": {},
     "output_type": "execute_result"
    }
   ],
   "source": [
    "heroes[4]"
   ]
  },
  {
   "cell_type": "code",
   "execution_count": 40,
   "metadata": {
    "collapsed": true
   },
   "outputs": [
    {
     "data": {
      "text/plain": [
       "'Lenders'"
      ]
     },
     "execution_count": 40,
     "metadata": {},
     "output_type": "execute_result"
    }
   ],
   "source": [
    "usuario[1]"
   ]
  },
  {
   "cell_type": "code",
   "execution_count": 44,
   "metadata": {
    "collapsed": true
   },
   "outputs": [
    {
     "name": "stdout",
     "output_type": "stream",
     "text": [
      "[28.5, 29.0, 29.5, 32.1, 30.7, 25.5, 26.0]\n",
      "[28.5, 29.0, 29.5, 32.1, 30.7, 25.5, 26.0]\n"
     ]
    }
   ],
   "source": [
    "print(temperaturas)\n",
    "temperaturas[1] = 29.0\n",
    "# Puedo asignar un valor a una posición cualquiera de una lista\n",
    "print(temperaturas)"
   ]
  },
  {
   "cell_type": "code",
   "execution_count": 53,
   "metadata": {
    "collapsed": true
   },
   "outputs": [
    {
     "name": "stdout",
     "output_type": "stream",
     "text": [
      "[30.0, 29.0, 31.0, 32.1, 30.7, 25.5, 26.0, 0, 5, 0, 5]\n"
     ]
    }
   ],
   "source": [
    "#temperaturas[0] = temperaturas[0] + 0.5\n",
    "temperaturas[2]+= 0.5\n",
    "# Incrementamos en 0.5 grados la primera temperatura de la lista\n",
    "print(temperaturas)"
   ]
  },
  {
   "cell_type": "markdown",
   "metadata": {},
   "source": [
    "También podemos conocer en cualquier momento el número total de elementos dentro de una lista o una tupla mediante la función predefinida **len**:"
   ]
  },
  {
   "cell_type": "code",
   "execution_count": 54,
   "metadata": {
    "collapsed": true
   },
   "outputs": [
    {
     "data": {
      "text/plain": [
       "11"
      ]
     },
     "execution_count": 54,
     "metadata": {},
     "output_type": "execute_result"
    }
   ],
   "source": [
    "len(temperaturas)"
   ]
  },
  {
   "cell_type": "code",
   "execution_count": 55,
   "metadata": {
    "collapsed": true
   },
   "outputs": [
    {
     "data": {
      "text/plain": [
       "2"
      ]
     },
     "execution_count": 55,
     "metadata": {},
     "output_type": "execute_result"
    }
   ],
   "source": [
    "len(usuario)"
   ]
  },
  {
   "cell_type": "markdown",
   "metadata": {},
   "source": [
    "---\n",
    "**¡Cuidado!** No podemos asignar valores a las posiciones de una tupla. Prueba a ejecutar este código:"
   ]
  },
  {
   "cell_type": "code",
   "execution_count": 56,
   "metadata": {
    "collapsed": true
   },
   "outputs": [
    {
     "ename": "TypeError",
     "evalue": "'tuple' object does not support item assignment",
     "output_type": "error",
     "traceback": [
      "\u001b[1;31m---------------------------------------------------------------------------\u001b[0m",
      "\u001b[1;31mTypeError\u001b[0m                                 Traceback (most recent call last)",
      "\u001b[1;32mc:\\Users\\EMILIOPC\\Desktop\\Ing. Software\\FP\\1. Introducción a Python\\Introducción a Python - Conceptos básicos de programación .ipynb Celda 64\u001b[0m in \u001b[0;36m<cell line: 1>\u001b[1;34m()\u001b[0m\n\u001b[1;32m----> <a href='vscode-notebook-cell:/c%3A/Users/EMILIOPC/Desktop/Ing.%20Software/FP/1.%20Introducci%C3%B3n%20a%20Python/Introducci%C3%B3n%20a%20Python%20-%20Conceptos%20b%C3%A1sicos%20de%20programaci%C3%B3n%20.ipynb#Y114sZmlsZQ%3D%3D?line=0'>1</a>\u001b[0m usuario[\u001b[39m0\u001b[39m] \u001b[39m=\u001b[39m \u001b[39m\"\u001b[39m\u001b[39mMarcos\u001b[39m\u001b[39m\"\u001b[39m\n",
      "\u001b[1;31mTypeError\u001b[0m: 'tuple' object does not support item assignment"
     ]
    }
   ],
   "source": [
    "usuario[0] = \"Marcos\" # Cambiemos el nombre del usuario"
   ]
  },
  {
   "cell_type": "markdown",
   "metadata": {},
   "source": [
    "Decimos que las tuplas son un **tipo inmutable**, lo que significa que una vez que hemos guardado un valor en una variable de este tipo, ¡ya no podremos cambiarlo!\n",
    "\n",
    "Lo que acaba de ocurrir es un **error en tiempo de ejecución**. Estos errores ocurren frecuentemente mientras estamos escribiendo y probando nuestros programas, y significan que no hemos hecho algo de la manera correcta. Cuando se produce uno de estos errores, el programa deja de ejecutarse. Cuando nuestro programa esté acabado y bien probado, no debería ocurrir ninguno de estos errores... Aunque ocasionalmente ocurre. Seguro que te suena esta ventana:\n",
    "\n",
    "![title](img001.png)\n"
   ]
  },
  {
   "cell_type": "markdown",
   "metadata": {},
   "source": [
    "### ¡Prueba tú!"
   ]
  },
  {
   "cell_type": "markdown",
   "metadata": {},
   "source": [
    "Los elementos de la lista *temperaturas* son números reales. Pero una lista puede contener elementos del tipo que quieras. Intenta definir una lista *usuarios*, en la que cada elemento sea una tupla *(nombre, apellido)*, como la tupla *usuario* que hemos definido anteriormente. Aquí tienes algunos pares nombre-apellido que puedes meter en la lista:\n",
    "* Mark Lenders\n",
    "* Oliver Atom\n",
    "* Benji Price"
   ]
  },
  {
   "cell_type": "code",
   "execution_count": 6,
   "metadata": {
    "collapsed": true
   },
   "outputs": [
    {
     "name": "stdout",
     "output_type": "stream",
     "text": [
      "Lenders\n",
      "[('Mark', 'Lenders'), ('Oliver', 'Aton'), ('Benji', 'Price'), ('Mike', 'Smith')]\n",
      "[('Mark', 'Lenders'), ('Mike', 'Morales'), ('Benji', 'Price'), ('Mike', 'Smith')]\n",
      "[('Mark', 'Lenders'), ('Mike', 'Morales'), ('Mark', 'Miler'), ('Benji', 'Price'), ('Mike', 'Smith')]\n"
     ]
    }
   ],
   "source": [
    "# Completa la instrucción siguiente:\n",
    "usuarios = [('Mark','Lenders'),('Oliver','Aton'),('Benji','Price')]\n",
    "print(usuarios[0][1])\n",
    "usuarios.append(('Mike', 'Smith'))\n",
    "print(usuarios)\n",
    "#Puedo modificar/sustituir elementos dentro de la lista pero no de la tupla\n",
    "usuarios[1]=('Mike','Morales')\n",
    "print(usuarios)\n",
    "usuarios.insert(2, ('Mark','Miler')) #Inserta en una posicion especifica\n",
    "print(usuarios)"
   ]
  },
  {
   "cell_type": "code",
   "execution_count": 79,
   "metadata": {},
   "outputs": [
    {
     "name": "stdout",
     "output_type": "stream",
     "text": [
      "[32.1, 31.0, 30.7, 30.0]\n",
      "[30.0, 30.7, 31.0, 32.1]\n",
      "[32.1, 31.0, 30.7, 30.0]\n",
      "[32.1, 31.0, 30.7]\n",
      "[32.1, 31.0, 30.7]\n",
      "[30.7, 31.0, 32.1]\n"
     ]
    }
   ],
   "source": [
    "from re import T\n",
    "\n",
    "\n",
    "print(temperaturas)\n",
    "temperaturas.sort() #ORDENA DE MENOR A MAYOR LA LISTA\n",
    "print(temperaturas)\n",
    "temperaturas.reverse()#ORDENA DE AL REVES LA LISTA\n",
    "print(temperaturas)\n",
    "temperaturas.pop()\n",
    "print(temperaturas)\n",
    "print(temperaturas)\n",
    "temperaturas.sort(reverse=False)\n",
    "print(temperaturas)"
   ]
  },
  {
   "cell_type": "markdown",
   "metadata": {},
   "source": [
    "## 4. Diccionarios\n",
    "\n",
    "Existen más tipos como las listas y las tuplas, que permiten almacenar conjuntos de datos. Uno muy utilizado es el **diccionario**. En un diccionario, cada valor almacenado se asocia a una clave, de manera que para acceder a los **valores** se utilizan dichas **claves** (de forma parecida a como para acceder a los valores de una lista se utilizan los índices).\n"
   ]
  },
  {
   "cell_type": "markdown",
   "metadata": {},
   "source": [
    "Puedes pensar en un diccionario como si se tratara de una tabla con dos columnas. Por ejemplo, un diccionario podría almacenar las temperaturas medias de las capitales andaluzas, indexando dichos valores mediante los nombres de las capitales:\n",
    "\n",
    "|Clave|Valor|\n",
    "|---|---|\n",
    "|\"Almería\"|19.9|\n",
    "|\"Cádiz\"| 19.1|\n",
    "|\"Córdoba\"| 19.1|\n",
    "|\"Granada\"|16.6|\n",
    "|\"Jaén\"|18.2|\n",
    "|\"Huelva\"|19.0|\n",
    "|\"Málaga\"|19.8|\n",
    "|\"Sevilla\"|20.0|\n",
    "\n",
    "Lo cual se escribiría en Python de la siguiente manera:"
   ]
  },
  {
   "cell_type": "code",
   "execution_count": 80,
   "metadata": {
    "collapsed": true
   },
   "outputs": [
    {
     "name": "stdout",
     "output_type": "stream",
     "text": [
      "{'Almería': 19.9, 'Cádiz': 19.1, 'Córdoba': 19.1, 'Granada': 16.6, 'Jaén': 18.2, 'Huelva': 19.0, 'Málaga': 19.8, 'Sevilla': 20.0}\n"
     ]
    }
   ],
   "source": [
    "temperatura_media = {\"Almería\": 19.9, \"Cádiz\": 19.1, \"Córdoba\": 19.1, \"Granada\": 16.6, \n",
    "                    \"Jaén\": 18.2, \"Huelva\": 19.0, \"Málaga\": 19.8, \"Sevilla\": 20.0}\n",
    "print(temperatura_media)\n",
    "#temperatura_media= {}     #Dict vacio\n"
   ]
  },
  {
   "cell_type": "markdown",
   "metadata": {},
   "source": [
    "Ahora podemos trabajar con los datos del diccionario de forma parecida a las listas, aunque usando las claves para acceder a los valores, en lugar de los índices."
   ]
  },
  {
   "cell_type": "code",
   "execution_count": 81,
   "metadata": {
    "collapsed": true
   },
   "outputs": [
    {
     "name": "stdout",
     "output_type": "stream",
     "text": [
      "Temperatura anterior: 20.0\n",
      "Temperatura actual: 21.0\n"
     ]
    }
   ],
   "source": [
    "print(\"Temperatura anterior:\", temperatura_media['Sevilla'])#Sevilla es la clave\n",
    "temperatura_media['Sevilla'] += 10.0   # ¡Cambio climático!  Modifica valores del diccionario\n",
    "print(\"Temperatura actual:\", temperatura_media['Sevilla'])"
   ]
  },
  {
   "cell_type": "markdown",
   "metadata": {},
   "source": [
    "### ¡Prueba tú!\n",
    "\n",
    "Intenta definir un diccionario en el que las claves sean los usuarios que definiste en el ejercicio anterior, y los valores asociados sean las contraseñas de acceso a un sistema."
   ]
  },
  {
   "cell_type": "code",
   "execution_count": 9,
   "metadata": {
    "collapsed": true
   },
   "outputs": [
    {
     "name": "stdout",
     "output_type": "stream",
     "text": [
      "La contraseña de: ('Mark', 'Lenders') es 12345\n"
     ]
    }
   ],
   "source": [
    "# Completa la instrucción siguiente:\n",
    "contraseñas = {usuarios[0] : 12345, usuarios[1] : 54321, usuarios[2]: 4567}\n",
    "print('La contraseña de:', usuarios[0], 'es' ,contraseñas[usuarios[0]]) \n",
    "#Cuidado con la s de usuarios que si me la dejo falla el programa"
   ]
  },
  {
   "cell_type": "markdown",
   "metadata": {},
   "source": [
    "## 5. Objetos"
   ]
  },
  {
   "cell_type": "markdown",
   "metadata": {},
   "source": [
    "Si queremos añadir un elemento a la lista *temperaturas*, podemos hacerlo así:"
   ]
  },
  {
   "cell_type": "code",
   "execution_count": null,
   "metadata": {
    "collapsed": true
   },
   "outputs": [],
   "source": [
    "temperaturas.append(29.2)  # añade el valor 29.2 al final de la lista\n",
    "print(temperaturas)\n",
    "print(len(temperaturas))"
   ]
  },
  {
   "cell_type": "markdown",
   "metadata": {},
   "source": [
    "Cuando una variable (*temperaturas*) puede ser usada como en el ejemplo anterior, escribiendo un punto (.) y a continuación invocando a una función (*append*), decimos que la variable es un **objeto**, y a la función en cuestión la llamamos **método**. La principal diferencia entre un método y una función es que el primero sólo se puede llamar si tenemos previamente un objeto del tipo adecuado. Por ejemplo, el método *append* sólo puede ser invocado sobre un objeto de tipo lista. \n",
    "\n",
    "Intentemos llamar a *append* como si fuese una función:"
   ]
  },
  {
   "cell_type": "code",
   "execution_count": 82,
   "metadata": {
    "collapsed": true
   },
   "outputs": [
    {
     "ename": "NameError",
     "evalue": "name 'append' is not defined",
     "output_type": "error",
     "traceback": [
      "\u001b[1;31m---------------------------------------------------------------------------\u001b[0m",
      "\u001b[1;31mNameError\u001b[0m                                 Traceback (most recent call last)",
      "\u001b[1;32mc:\\Users\\EMILIOPC\\Desktop\\Ing. Software\\FP\\1. Introducción a Python\\Introducción a Python - Conceptos básicos de programación .ipynb Celda 79\u001b[0m in \u001b[0;36m<cell line: 1>\u001b[1;34m()\u001b[0m\n\u001b[1;32m----> <a href='vscode-notebook-cell:/c%3A/Users/EMILIOPC/Desktop/Ing.%20Software/FP/1.%20Introducci%C3%B3n%20a%20Python/Introducci%C3%B3n%20a%20Python%20-%20Conceptos%20b%C3%A1sicos%20de%20programaci%C3%B3n%20.ipynb#Y136sZmlsZQ%3D%3D?line=0'>1</a>\u001b[0m append(\u001b[39m29.2\u001b[39m)\n",
      "\u001b[1;31mNameError\u001b[0m: name 'append' is not defined"
     ]
    }
   ],
   "source": [
    "append(29.2) #Solo para las listas"
   ]
  },
  {
   "cell_type": "markdown",
   "metadata": {},
   "source": [
    "Puedes ver todos los métodos que tiene un objeto mediante la función predefinida **dir**:"
   ]
  },
  {
   "cell_type": "code",
   "execution_count": 83,
   "metadata": {
    "collapsed": true
   },
   "outputs": [
    {
     "data": {
      "text/plain": [
       "['__add__',\n",
       " '__class__',\n",
       " '__class_getitem__',\n",
       " '__contains__',\n",
       " '__delattr__',\n",
       " '__delitem__',\n",
       " '__dir__',\n",
       " '__doc__',\n",
       " '__eq__',\n",
       " '__format__',\n",
       " '__ge__',\n",
       " '__getattribute__',\n",
       " '__getitem__',\n",
       " '__gt__',\n",
       " '__hash__',\n",
       " '__iadd__',\n",
       " '__imul__',\n",
       " '__init__',\n",
       " '__init_subclass__',\n",
       " '__iter__',\n",
       " '__le__',\n",
       " '__len__',\n",
       " '__lt__',\n",
       " '__mul__',\n",
       " '__ne__',\n",
       " '__new__',\n",
       " '__reduce__',\n",
       " '__reduce_ex__',\n",
       " '__repr__',\n",
       " '__reversed__',\n",
       " '__rmul__',\n",
       " '__setattr__',\n",
       " '__setitem__',\n",
       " '__sizeof__',\n",
       " '__str__',\n",
       " '__subclasshook__',\n",
       " 'append',\n",
       " 'clear',\n",
       " 'copy',\n",
       " 'count',\n",
       " 'extend',\n",
       " 'index',\n",
       " 'insert',\n",
       " 'pop',\n",
       " 'remove',\n",
       " 'reverse',\n",
       " 'sort']"
      ]
     },
     "execution_count": 83,
     "metadata": {},
     "output_type": "execute_result"
    }
   ],
   "source": [
    "dir(temperaturas)"
   ]
  },
  {
   "cell_type": "markdown",
   "metadata": {},
   "source": [
    "Y si quieres una descripción más detallada de cada método, puedes usar la función **help**, que ya hemos usado anteriormente."
   ]
  },
  {
   "cell_type": "code",
   "execution_count": null,
   "metadata": {
    "collapsed": true
   },
   "outputs": [],
   "source": [
    "help(temperaturas)"
   ]
  },
  {
   "cell_type": "markdown",
   "metadata": {},
   "source": [
    "### ¡Prueba tú!"
   ]
  },
  {
   "cell_type": "markdown",
   "metadata": {},
   "source": [
    "Intenta utilizar algunos de los métodos del objeto *temperaturas*:"
   ]
  },
  {
   "cell_type": "code",
   "execution_count": null,
   "metadata": {
    "collapsed": true
   },
   "outputs": [],
   "source": [
    "\n",
    "\n",
    "\n"
   ]
  },
  {
   "cell_type": "markdown",
   "metadata": {},
   "source": [
    "## 6. Control del flujo de ejecución"
   ]
  },
  {
   "cell_type": "markdown",
   "metadata": {},
   "source": [
    "Podemos utilizar la instrucción **for** para recorrer los elementos de una lista o una tupla. Llamamos a esto un **bucle**."
   ]
  },
  {
   "cell_type": "code",
   "execution_count": 84,
   "metadata": {
    "collapsed": true
   },
   "outputs": [
    {
     "name": "stdout",
     "output_type": "stream",
     "text": [
      "Temperatura: 30.7\n",
      "Temperatura: 31.0\n",
      "Temperatura: 32.1\n"
     ]
    }
   ],
   "source": [
    "for temperatura in temperaturas:    # Se puede leer así: para cada valor \"temperatura\" en la lista \"temperaturas\"\n",
    "    print(\"Temperatura:\", temperatura) #En cada interaccion la variable temperatura obtiene un valor de la lista y luego la imprime."
   ]
  },
  {
   "cell_type": "markdown",
   "metadata": {},
   "source": [
    "En el código anterior, la instrucción que aparece indentada se ejecuta una vez para cada elemento de la lista *temperaturas*. En cada ejecución, la variable *temperatura* almacena un elemento distinto de la lista, comenzando por el primero y pasando por cada elemento secuencialmente. Date cuenta también de que la función predefinida *print* se puede usar con varios parámetros, en cuyo caso mostrará cada uno de ellos por pantalla.\n",
    "\n",
    "Veamos otro ejemplo de bucle:"
   ]
  },
  {
   "cell_type": "code",
   "execution_count": 85,
   "metadata": {
    "collapsed": true
   },
   "outputs": [
    {
     "name": "stdout",
     "output_type": "stream",
     "text": [
      "La temperatura media en la semana ha sido 31.26666666666667 grados.\n"
     ]
    }
   ],
   "source": [
    "suma = 0\n",
    "for temperatura in temperaturas:\n",
    "    suma += temperatura #En cada interaccion la variable suma añade el valor siguiente\n",
    "    # El operador += almacena en \"suma\" el resultado de sumar \"temperatura\" al valor anterior de \"suma\"\n",
    "print(\"La temperatura media en la semana ha sido\", suma / len(temperaturas), \"grados.\")"
   ]
  },
  {
   "cell_type": "markdown",
   "metadata": {},
   "source": [
    "Aunque realmente no hace falta hacer un bucle para sumar los elementos de una lista, ya que esto mismo podemos hacerlo en Python con la función predefinida **sum**."
   ]
  },
  {
   "cell_type": "code",
   "execution_count": 86,
   "metadata": {
    "collapsed": true
   },
   "outputs": [
    {
     "name": "stdout",
     "output_type": "stream",
     "text": [
      "La temperatura media en la semana ha sido 31.26666666666667 grados.\n"
     ]
    }
   ],
   "source": [
    "print(\"La temperatura media en la semana ha sido\", sum(temperaturas) / len(temperaturas), \"grados.\")"
   ]
  },
  {
   "cell_type": "markdown",
   "metadata": {},
   "source": [
    "La instrucción *for* es una instrucción de **control del flujo de ejecución**, pues permite que la secuencia en que se van ejecutando las distintas instrucciones varíe con respecto a la ejecución esperada (recordemos que, por defecto, las instrucciones se van ejecutando una tras otra, en el orden en que las hemos escrito, y una sola vez). Otra instrucción que también altera el flujo normal de ejecución es la instrucción **if**. Veamos un ejemplo:"
   ]
  },
  {
   "cell_type": "code",
   "execution_count": 11,
   "metadata": {
    "collapsed": true
   },
   "outputs": [
    {
     "name": "stdout",
     "output_type": "stream",
     "text": [
      "Buenos días, Fermín\n",
      "Buenas tardes, Fermín\n",
      "Buenas noches, Fermín\n"
     ]
    }
   ],
   "source": [
    "def saluda(nombre, hora):\n",
    "    if hora < 12:     # Si el parámetro \"hora\" es menor de 12, se ejecuta el siguiente bloque de instrucciones\n",
    "        print(\"Buenos días, \" + nombre)\n",
    "    elif hora < 21:   # En otro caso, si el parámetro \"hora\" es menor de 21, se ejecuta el siguiente bloque de instrucciones\n",
    "        print(\"Buenas tardes, \" + nombre)\n",
    "    else:           # En cualquier otro caso, se ejecuta el siguiente bloque de instrucciones. Da problema con horas mayores a 24\n",
    "        print(\"Buenas noches, \" + nombre)\n",
    "\n",
    "saluda(\"Fermín\", 8)\n",
    "saluda(\"Fermín\", 16)\n",
    "saluda(\"Fermín\", 23)\n"
   ]
  },
  {
   "cell_type": "markdown",
   "metadata": {},
   "source": [
    "Observa que las **palabras clave** que se usan son **if**, **elif** y **else**, y que a continuación de las dos primeras se escribe una expresión lógica (es decir, una expresión cuyo resultado es de tipo lógico: verdadero o falso). Las instrucciones que aparecen tras la palabra **if** sólo se ejecutan si la expresión correspondiente se evalúa como verdadera. Las instrucciones que aparecen tras la palabra **elif** sólo se ejecutan si no se han ejecutado las anteriores, y si la expresión correspondiente se evalúa como verdadera. Las instrucciones que aparecen tras la palabra **else** sólo se ejecutan si no se han ejecutado ninguna de las anteriores. \n",
    "\n",
    "Aquí tienes otros ejemplos:"
   ]
  },
  {
   "cell_type": "code",
   "execution_count": null,
   "metadata": {
    "collapsed": true
   },
   "outputs": [],
   "source": [
    "temperatura_actual = temperaturas[6]\n",
    "if temperatura_actual < 0:  # Si la temperatura es menor de cero grados\n",
    "    print(\"¡Cuidado! Riesgo de congelación.\")\n"
   ]
  },
  {
   "cell_type": "code",
   "execution_count": null,
   "metadata": {
    "collapsed": true
   },
   "outputs": [],
   "source": [
    "# Si el primer elemento de la tupla \"usuario\" es igual a \"Mark\" y el segundo elemento es igual a \"Lenders\"\n",
    "if usuario[0] == \"Mark\" and usuario[1] == \"Lenders\": \n",
    "    print(\"Hola, Mark. Te estaba esperando.\")\n",
    "else:  # En otro caso\n",
    "    print(\"Hola, ¿nos conocemos?\")\n"
   ]
  },
  {
   "cell_type": "code",
   "execution_count": 15,
   "metadata": {
    "collapsed": true
   },
   "outputs": [
    {
     "ename": "SyntaxError",
     "evalue": "unexpected EOF while parsing (3100093529.py, line 12)",
     "output_type": "error",
     "traceback": [
      "\u001b[1;36m  Input \u001b[1;32mIn [15]\u001b[1;36m\u001b[0m\n\u001b[1;33m    print(acceso_restringido(('Mark','Lenders'))\u001b[0m\n\u001b[1;37m                                                ^\u001b[0m\n\u001b[1;31mSyntaxError\u001b[0m\u001b[1;31m:\u001b[0m unexpected EOF while parsing\n"
     ]
    }
   ],
   "source": [
    "def acceso_restringido(usuario):\n",
    "    if usuario[0] == \"Mark\" and usuario[1] == \"Lenders\": \n",
    "        print(\"Hola, Mark. Te estaba esperando.\")\n",
    "    elif usuario[0] == \"Oliver\" and usuario[1] == \"Atom\": \n",
    "        print(\"Hola, Oliver. Te estaba esperando.\")\n",
    "    elif usuario[0] == \"Benji\" and usuario[1] == \"Price\": \n",
    "        print(\"Hola, Benji. Te estaba esperando.\")\n",
    "    else:  \n",
    "        print(\"Hola, ¿nos conocemos?\")\n",
    "\n",
    "\n",
    "print(acceso_restringido(('Mark','Lenders'))\n"
   ]
  },
  {
   "cell_type": "markdown",
   "metadata": {},
   "source": [
    "Para escribir las expresiones lógicas se usan distintos **operadores lógicos** (como el operador **and**) y **operadores relacionales** (como los operadores **>** o **==**). Iremos viendo más operadores de estos tipos a medida que los vayamos necesitando."
   ]
  },
  {
   "cell_type": "markdown",
   "metadata": {},
   "source": [
    "### ¡Prueba tú!"
   ]
  },
  {
   "cell_type": "markdown",
   "metadata": {},
   "source": [
    "Escribe un bucle *for* para llamar a la función *acceso_restringido* pasándole cada uno de los elementos de la lista *usuarios*."
   ]
  },
  {
   "cell_type": "code",
   "execution_count": null,
   "metadata": {
    "collapsed": true
   },
   "outputs": [],
   "source": [
    "\n",
    "\n"
   ]
  },
  {
   "cell_type": "markdown",
   "metadata": {},
   "source": [
    "## 7. Módulos y paquetes"
   ]
  },
  {
   "cell_type": "markdown",
   "metadata": {},
   "source": [
    "Además de las funciones predefinidas, hay muchas otras cosas que se pueden hacer con Python sin necesidad de implementar nosotros ninguna función ni tener que descargar o instalar nada en el ordenador. Eso sí, para poder hacer uso de estas funcionalidades incluidas en Python, es necesario **importar** el módulo o módulos donde están implementadas. Un **módulo** es cada uno de los ficheros con extensión .py en los que están escritos los programas en Python. Los módulos están agrupados en **paquetes**, que son parecidos a las carpetas del explorador de archivos de Windows.\n",
    "\n",
    "Por ejemplo, si queremos generar números aleatorios, podemos usar el módulo **random**. Antes de hacerlo, es necesario importarlo. Prueba a ejecutar varias veces el siguiente código y verás como cada vez se genera un número distinto:"
   ]
  },
  {
   "cell_type": "code",
   "execution_count": 3,
   "metadata": {
    "collapsed": true
   },
   "outputs": [
    {
     "name": "stdout",
     "output_type": "stream",
     "text": [
      "9\n"
     ]
    }
   ],
   "source": [
    "import random\n",
    "\n",
    "print(random.randint(1, 10))#Genera entero aleatorio incluyendo el 1 y el 10, el intervalo es el que queramos."
   ]
  },
  {
   "cell_type": "markdown",
   "metadata": {},
   "source": [
    "Fíjate que para llamar a la función randint, que está definida dentro del módulo random, debemos escribir *random.randint(...)*. Si vamos a usar muy a menudo la función en nuestro código, también podemos importarla así:"
   ]
  },
  {
   "cell_type": "code",
   "execution_count": 2,
   "metadata": {},
   "outputs": [
    {
     "name": "stdout",
     "output_type": "stream",
     "text": [
      "1\n"
     ]
    }
   ],
   "source": [
    "from random import randint\n",
    "#Para usar la funcion sin nombrar al módulo\n",
    "print(randint(1, 10))"
   ]
  },
  {
   "cell_type": "markdown",
   "metadata": {},
   "source": [
    "De esta manera ya no es necesario indicar la ubicación de la función cada vez que la llamemos. Aunque es más cómodo, no es del todo recomendable, como veremos más adelante.\n",
    "\n",
    "¿Y si queremos generar, pongamos, 20 números aleatorios, entre 1 y 10? Podemos hacerlo con la instrucción **for**, la misma que utilizamos antes para recorrer los elementos de una lista:"
   ]
  },
  {
   "cell_type": "code",
   "execution_count": 8,
   "metadata": {
    "collapsed": true
   },
   "outputs": [
    {
     "name": "stdout",
     "output_type": "stream",
     "text": [
      "[7, 8, 9, 1, 8, 1, 6, 3, 6, 10, 4, 5, 3, 3, 5, 2, 2, 4, 3, 3]\n"
     ]
    }
   ],
   "source": [
    "numeros = []\n",
    "for i in range(20):  # la función predefinida \"range\" devuelve los números enteros del 0 al 19.\n",
    "    #print(i)\n",
    "    numeros.append(randint(1, 10))\n",
    "print(numeros)"
   ]
  },
  {
   "cell_type": "markdown",
   "metadata": {},
   "source": [
    "En el siguiente ejemplo, usamos el módulo *datetime*, que nos permite, entre otras cosas, saber la hora actual en que se está ejecutando el programa."
   ]
  },
  {
   "cell_type": "code",
   "execution_count": 14,
   "metadata": {
    "collapsed": true
   },
   "outputs": [
    {
     "name": "stdout",
     "output_type": "stream",
     "text": [
      "Buenas tardes, Fermín\n",
      "2022-09-21 18:07:11.251755\n",
      "7\n"
     ]
    }
   ],
   "source": [
    "# El módulo se llama \"datetime\", y dentro hay definido un objeto que también se llama \"datetime\"\n",
    "from datetime import datetime\n",
    "hora_actual = datetime.now()  # El método now() devuelve un objeto de tipo datetime\n",
    "# El objeto hora_actual tiene un atributo hour que indica la hora actual (de 0 a 23)\n",
    "saluda(\"Fermín\", hora_actual.hour)\n",
    "print(hora_actual)\n",
    "print(hora_actual.minute)"
   ]
  },
  {
   "cell_type": "markdown",
   "metadata": {},
   "source": [
    "En el ejemplo anterior, cuando escribimos *hora_actual.hour* estamos accediendo a un **atributo**, llamado *hour*, del objeto *hora_actual*. Por tanto, los objetos tienen, además de métodos, atributos, los cuales son parecidos a las variables (al igual que los métodos eran parecidos a las funciones). La manera de diferenciar si estamos accediendo a un atributo o llamando a un método es que en el segundo caso usamos los paréntesis."
   ]
  },
  {
   "cell_type": "markdown",
   "metadata": {},
   "source": [
    "Con los distintos módulos existentes para Python se puede hacer prácticamente de todo. Por ejemplo, dibujar gráficas de todo tipo, mediante la librería **matplotlib**. Cuando hablamos de una **librería** nos referimos a un conjunto de módulos relacionados entre sí por el tipo de funcionalidad que ofrecen. Generalmente, los módulos de una librería están agrupados dentro de un paquete, como es el caso de *matplotlib*."
   ]
  },
  {
   "cell_type": "code",
   "execution_count": 3,
   "metadata": {
    "scrolled": false
   },
   "outputs": [
    {
     "data": {
      "application/javascript": [
       "/* Put everything inside the global mpl namespace */\n",
       "/* global mpl */\n",
       "window.mpl = {};\n",
       "\n",
       "mpl.get_websocket_type = function () {\n",
       "    if (typeof WebSocket !== 'undefined') {\n",
       "        return WebSocket;\n",
       "    } else if (typeof MozWebSocket !== 'undefined') {\n",
       "        return MozWebSocket;\n",
       "    } else {\n",
       "        alert(\n",
       "            'Your browser does not have WebSocket support. ' +\n",
       "                'Please try Chrome, Safari or Firefox ≥ 6. ' +\n",
       "                'Firefox 4 and 5 are also supported but you ' +\n",
       "                'have to enable WebSockets in about:config.'\n",
       "        );\n",
       "    }\n",
       "};\n",
       "\n",
       "mpl.figure = function (figure_id, websocket, ondownload, parent_element) {\n",
       "    this.id = figure_id;\n",
       "\n",
       "    this.ws = websocket;\n",
       "\n",
       "    this.supports_binary = this.ws.binaryType !== undefined;\n",
       "\n",
       "    if (!this.supports_binary) {\n",
       "        var warnings = document.getElementById('mpl-warnings');\n",
       "        if (warnings) {\n",
       "            warnings.style.display = 'block';\n",
       "            warnings.textContent =\n",
       "                'This browser does not support binary websocket messages. ' +\n",
       "                'Performance may be slow.';\n",
       "        }\n",
       "    }\n",
       "\n",
       "    this.imageObj = new Image();\n",
       "\n",
       "    this.context = undefined;\n",
       "    this.message = undefined;\n",
       "    this.canvas = undefined;\n",
       "    this.rubberband_canvas = undefined;\n",
       "    this.rubberband_context = undefined;\n",
       "    this.format_dropdown = undefined;\n",
       "\n",
       "    this.image_mode = 'full';\n",
       "\n",
       "    this.root = document.createElement('div');\n",
       "    this.root.setAttribute('style', 'display: inline-block');\n",
       "    this._root_extra_style(this.root);\n",
       "\n",
       "    parent_element.appendChild(this.root);\n",
       "\n",
       "    this._init_header(this);\n",
       "    this._init_canvas(this);\n",
       "    this._init_toolbar(this);\n",
       "\n",
       "    var fig = this;\n",
       "\n",
       "    this.waiting = false;\n",
       "\n",
       "    this.ws.onopen = function () {\n",
       "        fig.send_message('supports_binary', { value: fig.supports_binary });\n",
       "        fig.send_message('send_image_mode', {});\n",
       "        if (fig.ratio !== 1) {\n",
       "            fig.send_message('set_device_pixel_ratio', {\n",
       "                device_pixel_ratio: fig.ratio,\n",
       "            });\n",
       "        }\n",
       "        fig.send_message('refresh', {});\n",
       "    };\n",
       "\n",
       "    this.imageObj.onload = function () {\n",
       "        if (fig.image_mode === 'full') {\n",
       "            // Full images could contain transparency (where diff images\n",
       "            // almost always do), so we need to clear the canvas so that\n",
       "            // there is no ghosting.\n",
       "            fig.context.clearRect(0, 0, fig.canvas.width, fig.canvas.height);\n",
       "        }\n",
       "        fig.context.drawImage(fig.imageObj, 0, 0);\n",
       "    };\n",
       "\n",
       "    this.imageObj.onunload = function () {\n",
       "        fig.ws.close();\n",
       "    };\n",
       "\n",
       "    this.ws.onmessage = this._make_on_message_function(this);\n",
       "\n",
       "    this.ondownload = ondownload;\n",
       "};\n",
       "\n",
       "mpl.figure.prototype._init_header = function () {\n",
       "    var titlebar = document.createElement('div');\n",
       "    titlebar.classList =\n",
       "        'ui-dialog-titlebar ui-widget-header ui-corner-all ui-helper-clearfix';\n",
       "    var titletext = document.createElement('div');\n",
       "    titletext.classList = 'ui-dialog-title';\n",
       "    titletext.setAttribute(\n",
       "        'style',\n",
       "        'width: 100%; text-align: center; padding: 3px;'\n",
       "    );\n",
       "    titlebar.appendChild(titletext);\n",
       "    this.root.appendChild(titlebar);\n",
       "    this.header = titletext;\n",
       "};\n",
       "\n",
       "mpl.figure.prototype._canvas_extra_style = function (_canvas_div) {};\n",
       "\n",
       "mpl.figure.prototype._root_extra_style = function (_canvas_div) {};\n",
       "\n",
       "mpl.figure.prototype._init_canvas = function () {\n",
       "    var fig = this;\n",
       "\n",
       "    var canvas_div = (this.canvas_div = document.createElement('div'));\n",
       "    canvas_div.setAttribute(\n",
       "        'style',\n",
       "        'border: 1px solid #ddd;' +\n",
       "            'box-sizing: content-box;' +\n",
       "            'clear: both;' +\n",
       "            'min-height: 1px;' +\n",
       "            'min-width: 1px;' +\n",
       "            'outline: 0;' +\n",
       "            'overflow: hidden;' +\n",
       "            'position: relative;' +\n",
       "            'resize: both;'\n",
       "    );\n",
       "\n",
       "    function on_keyboard_event_closure(name) {\n",
       "        return function (event) {\n",
       "            return fig.key_event(event, name);\n",
       "        };\n",
       "    }\n",
       "\n",
       "    canvas_div.addEventListener(\n",
       "        'keydown',\n",
       "        on_keyboard_event_closure('key_press')\n",
       "    );\n",
       "    canvas_div.addEventListener(\n",
       "        'keyup',\n",
       "        on_keyboard_event_closure('key_release')\n",
       "    );\n",
       "\n",
       "    this._canvas_extra_style(canvas_div);\n",
       "    this.root.appendChild(canvas_div);\n",
       "\n",
       "    var canvas = (this.canvas = document.createElement('canvas'));\n",
       "    canvas.classList.add('mpl-canvas');\n",
       "    canvas.setAttribute('style', 'box-sizing: content-box;');\n",
       "\n",
       "    this.context = canvas.getContext('2d');\n",
       "\n",
       "    var backingStore =\n",
       "        this.context.backingStorePixelRatio ||\n",
       "        this.context.webkitBackingStorePixelRatio ||\n",
       "        this.context.mozBackingStorePixelRatio ||\n",
       "        this.context.msBackingStorePixelRatio ||\n",
       "        this.context.oBackingStorePixelRatio ||\n",
       "        this.context.backingStorePixelRatio ||\n",
       "        1;\n",
       "\n",
       "    this.ratio = (window.devicePixelRatio || 1) / backingStore;\n",
       "\n",
       "    var rubberband_canvas = (this.rubberband_canvas = document.createElement(\n",
       "        'canvas'\n",
       "    ));\n",
       "    rubberband_canvas.setAttribute(\n",
       "        'style',\n",
       "        'box-sizing: content-box; position: absolute; left: 0; top: 0; z-index: 1;'\n",
       "    );\n",
       "\n",
       "    // Apply a ponyfill if ResizeObserver is not implemented by browser.\n",
       "    if (this.ResizeObserver === undefined) {\n",
       "        if (window.ResizeObserver !== undefined) {\n",
       "            this.ResizeObserver = window.ResizeObserver;\n",
       "        } else {\n",
       "            var obs = _JSXTOOLS_RESIZE_OBSERVER({});\n",
       "            this.ResizeObserver = obs.ResizeObserver;\n",
       "        }\n",
       "    }\n",
       "\n",
       "    this.resizeObserverInstance = new this.ResizeObserver(function (entries) {\n",
       "        var nentries = entries.length;\n",
       "        for (var i = 0; i < nentries; i++) {\n",
       "            var entry = entries[i];\n",
       "            var width, height;\n",
       "            if (entry.contentBoxSize) {\n",
       "                if (entry.contentBoxSize instanceof Array) {\n",
       "                    // Chrome 84 implements new version of spec.\n",
       "                    width = entry.contentBoxSize[0].inlineSize;\n",
       "                    height = entry.contentBoxSize[0].blockSize;\n",
       "                } else {\n",
       "                    // Firefox implements old version of spec.\n",
       "                    width = entry.contentBoxSize.inlineSize;\n",
       "                    height = entry.contentBoxSize.blockSize;\n",
       "                }\n",
       "            } else {\n",
       "                // Chrome <84 implements even older version of spec.\n",
       "                width = entry.contentRect.width;\n",
       "                height = entry.contentRect.height;\n",
       "            }\n",
       "\n",
       "            // Keep the size of the canvas and rubber band canvas in sync with\n",
       "            // the canvas container.\n",
       "            if (entry.devicePixelContentBoxSize) {\n",
       "                // Chrome 84 implements new version of spec.\n",
       "                canvas.setAttribute(\n",
       "                    'width',\n",
       "                    entry.devicePixelContentBoxSize[0].inlineSize\n",
       "                );\n",
       "                canvas.setAttribute(\n",
       "                    'height',\n",
       "                    entry.devicePixelContentBoxSize[0].blockSize\n",
       "                );\n",
       "            } else {\n",
       "                canvas.setAttribute('width', width * fig.ratio);\n",
       "                canvas.setAttribute('height', height * fig.ratio);\n",
       "            }\n",
       "            canvas.setAttribute(\n",
       "                'style',\n",
       "                'width: ' + width + 'px; height: ' + height + 'px;'\n",
       "            );\n",
       "\n",
       "            rubberband_canvas.setAttribute('width', width);\n",
       "            rubberband_canvas.setAttribute('height', height);\n",
       "\n",
       "            // And update the size in Python. We ignore the initial 0/0 size\n",
       "            // that occurs as the element is placed into the DOM, which should\n",
       "            // otherwise not happen due to the minimum size styling.\n",
       "            if (fig.ws.readyState == 1 && width != 0 && height != 0) {\n",
       "                fig.request_resize(width, height);\n",
       "            }\n",
       "        }\n",
       "    });\n",
       "    this.resizeObserverInstance.observe(canvas_div);\n",
       "\n",
       "    function on_mouse_event_closure(name) {\n",
       "        return function (event) {\n",
       "            return fig.mouse_event(event, name);\n",
       "        };\n",
       "    }\n",
       "\n",
       "    rubberband_canvas.addEventListener(\n",
       "        'mousedown',\n",
       "        on_mouse_event_closure('button_press')\n",
       "    );\n",
       "    rubberband_canvas.addEventListener(\n",
       "        'mouseup',\n",
       "        on_mouse_event_closure('button_release')\n",
       "    );\n",
       "    rubberband_canvas.addEventListener(\n",
       "        'dblclick',\n",
       "        on_mouse_event_closure('dblclick')\n",
       "    );\n",
       "    // Throttle sequential mouse events to 1 every 20ms.\n",
       "    rubberband_canvas.addEventListener(\n",
       "        'mousemove',\n",
       "        on_mouse_event_closure('motion_notify')\n",
       "    );\n",
       "\n",
       "    rubberband_canvas.addEventListener(\n",
       "        'mouseenter',\n",
       "        on_mouse_event_closure('figure_enter')\n",
       "    );\n",
       "    rubberband_canvas.addEventListener(\n",
       "        'mouseleave',\n",
       "        on_mouse_event_closure('figure_leave')\n",
       "    );\n",
       "\n",
       "    canvas_div.addEventListener('wheel', function (event) {\n",
       "        if (event.deltaY < 0) {\n",
       "            event.step = 1;\n",
       "        } else {\n",
       "            event.step = -1;\n",
       "        }\n",
       "        on_mouse_event_closure('scroll')(event);\n",
       "    });\n",
       "\n",
       "    canvas_div.appendChild(canvas);\n",
       "    canvas_div.appendChild(rubberband_canvas);\n",
       "\n",
       "    this.rubberband_context = rubberband_canvas.getContext('2d');\n",
       "    this.rubberband_context.strokeStyle = '#000000';\n",
       "\n",
       "    this._resize_canvas = function (width, height, forward) {\n",
       "        if (forward) {\n",
       "            canvas_div.style.width = width + 'px';\n",
       "            canvas_div.style.height = height + 'px';\n",
       "        }\n",
       "    };\n",
       "\n",
       "    // Disable right mouse context menu.\n",
       "    this.rubberband_canvas.addEventListener('contextmenu', function (_e) {\n",
       "        event.preventDefault();\n",
       "        return false;\n",
       "    });\n",
       "\n",
       "    function set_focus() {\n",
       "        canvas.focus();\n",
       "        canvas_div.focus();\n",
       "    }\n",
       "\n",
       "    window.setTimeout(set_focus, 100);\n",
       "};\n",
       "\n",
       "mpl.figure.prototype._init_toolbar = function () {\n",
       "    var fig = this;\n",
       "\n",
       "    var toolbar = document.createElement('div');\n",
       "    toolbar.classList = 'mpl-toolbar';\n",
       "    this.root.appendChild(toolbar);\n",
       "\n",
       "    function on_click_closure(name) {\n",
       "        return function (_event) {\n",
       "            return fig.toolbar_button_onclick(name);\n",
       "        };\n",
       "    }\n",
       "\n",
       "    function on_mouseover_closure(tooltip) {\n",
       "        return function (event) {\n",
       "            if (!event.currentTarget.disabled) {\n",
       "                return fig.toolbar_button_onmouseover(tooltip);\n",
       "            }\n",
       "        };\n",
       "    }\n",
       "\n",
       "    fig.buttons = {};\n",
       "    var buttonGroup = document.createElement('div');\n",
       "    buttonGroup.classList = 'mpl-button-group';\n",
       "    for (var toolbar_ind in mpl.toolbar_items) {\n",
       "        var name = mpl.toolbar_items[toolbar_ind][0];\n",
       "        var tooltip = mpl.toolbar_items[toolbar_ind][1];\n",
       "        var image = mpl.toolbar_items[toolbar_ind][2];\n",
       "        var method_name = mpl.toolbar_items[toolbar_ind][3];\n",
       "\n",
       "        if (!name) {\n",
       "            /* Instead of a spacer, we start a new button group. */\n",
       "            if (buttonGroup.hasChildNodes()) {\n",
       "                toolbar.appendChild(buttonGroup);\n",
       "            }\n",
       "            buttonGroup = document.createElement('div');\n",
       "            buttonGroup.classList = 'mpl-button-group';\n",
       "            continue;\n",
       "        }\n",
       "\n",
       "        var button = (fig.buttons[name] = document.createElement('button'));\n",
       "        button.classList = 'mpl-widget';\n",
       "        button.setAttribute('role', 'button');\n",
       "        button.setAttribute('aria-disabled', 'false');\n",
       "        button.addEventListener('click', on_click_closure(method_name));\n",
       "        button.addEventListener('mouseover', on_mouseover_closure(tooltip));\n",
       "\n",
       "        var icon_img = document.createElement('img');\n",
       "        icon_img.src = '_images/' + image + '.png';\n",
       "        icon_img.srcset = '_images/' + image + '_large.png 2x';\n",
       "        icon_img.alt = tooltip;\n",
       "        button.appendChild(icon_img);\n",
       "\n",
       "        buttonGroup.appendChild(button);\n",
       "    }\n",
       "\n",
       "    if (buttonGroup.hasChildNodes()) {\n",
       "        toolbar.appendChild(buttonGroup);\n",
       "    }\n",
       "\n",
       "    var fmt_picker = document.createElement('select');\n",
       "    fmt_picker.classList = 'mpl-widget';\n",
       "    toolbar.appendChild(fmt_picker);\n",
       "    this.format_dropdown = fmt_picker;\n",
       "\n",
       "    for (var ind in mpl.extensions) {\n",
       "        var fmt = mpl.extensions[ind];\n",
       "        var option = document.createElement('option');\n",
       "        option.selected = fmt === mpl.default_extension;\n",
       "        option.innerHTML = fmt;\n",
       "        fmt_picker.appendChild(option);\n",
       "    }\n",
       "\n",
       "    var status_bar = document.createElement('span');\n",
       "    status_bar.classList = 'mpl-message';\n",
       "    toolbar.appendChild(status_bar);\n",
       "    this.message = status_bar;\n",
       "};\n",
       "\n",
       "mpl.figure.prototype.request_resize = function (x_pixels, y_pixels) {\n",
       "    // Request matplotlib to resize the figure. Matplotlib will then trigger a resize in the client,\n",
       "    // which will in turn request a refresh of the image.\n",
       "    this.send_message('resize', { width: x_pixels, height: y_pixels });\n",
       "};\n",
       "\n",
       "mpl.figure.prototype.send_message = function (type, properties) {\n",
       "    properties['type'] = type;\n",
       "    properties['figure_id'] = this.id;\n",
       "    this.ws.send(JSON.stringify(properties));\n",
       "};\n",
       "\n",
       "mpl.figure.prototype.send_draw_message = function () {\n",
       "    if (!this.waiting) {\n",
       "        this.waiting = true;\n",
       "        this.ws.send(JSON.stringify({ type: 'draw', figure_id: this.id }));\n",
       "    }\n",
       "};\n",
       "\n",
       "mpl.figure.prototype.handle_save = function (fig, _msg) {\n",
       "    var format_dropdown = fig.format_dropdown;\n",
       "    var format = format_dropdown.options[format_dropdown.selectedIndex].value;\n",
       "    fig.ondownload(fig, format);\n",
       "};\n",
       "\n",
       "mpl.figure.prototype.handle_resize = function (fig, msg) {\n",
       "    var size = msg['size'];\n",
       "    if (size[0] !== fig.canvas.width || size[1] !== fig.canvas.height) {\n",
       "        fig._resize_canvas(size[0], size[1], msg['forward']);\n",
       "        fig.send_message('refresh', {});\n",
       "    }\n",
       "};\n",
       "\n",
       "mpl.figure.prototype.handle_rubberband = function (fig, msg) {\n",
       "    var x0 = msg['x0'] / fig.ratio;\n",
       "    var y0 = (fig.canvas.height - msg['y0']) / fig.ratio;\n",
       "    var x1 = msg['x1'] / fig.ratio;\n",
       "    var y1 = (fig.canvas.height - msg['y1']) / fig.ratio;\n",
       "    x0 = Math.floor(x0) + 0.5;\n",
       "    y0 = Math.floor(y0) + 0.5;\n",
       "    x1 = Math.floor(x1) + 0.5;\n",
       "    y1 = Math.floor(y1) + 0.5;\n",
       "    var min_x = Math.min(x0, x1);\n",
       "    var min_y = Math.min(y0, y1);\n",
       "    var width = Math.abs(x1 - x0);\n",
       "    var height = Math.abs(y1 - y0);\n",
       "\n",
       "    fig.rubberband_context.clearRect(\n",
       "        0,\n",
       "        0,\n",
       "        fig.canvas.width / fig.ratio,\n",
       "        fig.canvas.height / fig.ratio\n",
       "    );\n",
       "\n",
       "    fig.rubberband_context.strokeRect(min_x, min_y, width, height);\n",
       "};\n",
       "\n",
       "mpl.figure.prototype.handle_figure_label = function (fig, msg) {\n",
       "    // Updates the figure title.\n",
       "    fig.header.textContent = msg['label'];\n",
       "};\n",
       "\n",
       "mpl.figure.prototype.handle_cursor = function (fig, msg) {\n",
       "    fig.rubberband_canvas.style.cursor = msg['cursor'];\n",
       "};\n",
       "\n",
       "mpl.figure.prototype.handle_message = function (fig, msg) {\n",
       "    fig.message.textContent = msg['message'];\n",
       "};\n",
       "\n",
       "mpl.figure.prototype.handle_draw = function (fig, _msg) {\n",
       "    // Request the server to send over a new figure.\n",
       "    fig.send_draw_message();\n",
       "};\n",
       "\n",
       "mpl.figure.prototype.handle_image_mode = function (fig, msg) {\n",
       "    fig.image_mode = msg['mode'];\n",
       "};\n",
       "\n",
       "mpl.figure.prototype.handle_history_buttons = function (fig, msg) {\n",
       "    for (var key in msg) {\n",
       "        if (!(key in fig.buttons)) {\n",
       "            continue;\n",
       "        }\n",
       "        fig.buttons[key].disabled = !msg[key];\n",
       "        fig.buttons[key].setAttribute('aria-disabled', !msg[key]);\n",
       "    }\n",
       "};\n",
       "\n",
       "mpl.figure.prototype.handle_navigate_mode = function (fig, msg) {\n",
       "    if (msg['mode'] === 'PAN') {\n",
       "        fig.buttons['Pan'].classList.add('active');\n",
       "        fig.buttons['Zoom'].classList.remove('active');\n",
       "    } else if (msg['mode'] === 'ZOOM') {\n",
       "        fig.buttons['Pan'].classList.remove('active');\n",
       "        fig.buttons['Zoom'].classList.add('active');\n",
       "    } else {\n",
       "        fig.buttons['Pan'].classList.remove('active');\n",
       "        fig.buttons['Zoom'].classList.remove('active');\n",
       "    }\n",
       "};\n",
       "\n",
       "mpl.figure.prototype.updated_canvas_event = function () {\n",
       "    // Called whenever the canvas gets updated.\n",
       "    this.send_message('ack', {});\n",
       "};\n",
       "\n",
       "// A function to construct a web socket function for onmessage handling.\n",
       "// Called in the figure constructor.\n",
       "mpl.figure.prototype._make_on_message_function = function (fig) {\n",
       "    return function socket_on_message(evt) {\n",
       "        if (evt.data instanceof Blob) {\n",
       "            var img = evt.data;\n",
       "            if (img.type !== 'image/png') {\n",
       "                /* FIXME: We get \"Resource interpreted as Image but\n",
       "                 * transferred with MIME type text/plain:\" errors on\n",
       "                 * Chrome.  But how to set the MIME type?  It doesn't seem\n",
       "                 * to be part of the websocket stream */\n",
       "                img.type = 'image/png';\n",
       "            }\n",
       "\n",
       "            /* Free the memory for the previous frames */\n",
       "            if (fig.imageObj.src) {\n",
       "                (window.URL || window.webkitURL).revokeObjectURL(\n",
       "                    fig.imageObj.src\n",
       "                );\n",
       "            }\n",
       "\n",
       "            fig.imageObj.src = (window.URL || window.webkitURL).createObjectURL(\n",
       "                img\n",
       "            );\n",
       "            fig.updated_canvas_event();\n",
       "            fig.waiting = false;\n",
       "            return;\n",
       "        } else if (\n",
       "            typeof evt.data === 'string' &&\n",
       "            evt.data.slice(0, 21) === 'data:image/png;base64'\n",
       "        ) {\n",
       "            fig.imageObj.src = evt.data;\n",
       "            fig.updated_canvas_event();\n",
       "            fig.waiting = false;\n",
       "            return;\n",
       "        }\n",
       "\n",
       "        var msg = JSON.parse(evt.data);\n",
       "        var msg_type = msg['type'];\n",
       "\n",
       "        // Call the  \"handle_{type}\" callback, which takes\n",
       "        // the figure and JSON message as its only arguments.\n",
       "        try {\n",
       "            var callback = fig['handle_' + msg_type];\n",
       "        } catch (e) {\n",
       "            console.log(\n",
       "                \"No handler for the '\" + msg_type + \"' message type: \",\n",
       "                msg\n",
       "            );\n",
       "            return;\n",
       "        }\n",
       "\n",
       "        if (callback) {\n",
       "            try {\n",
       "                // console.log(\"Handling '\" + msg_type + \"' message: \", msg);\n",
       "                callback(fig, msg);\n",
       "            } catch (e) {\n",
       "                console.log(\n",
       "                    \"Exception inside the 'handler_\" + msg_type + \"' callback:\",\n",
       "                    e,\n",
       "                    e.stack,\n",
       "                    msg\n",
       "                );\n",
       "            }\n",
       "        }\n",
       "    };\n",
       "};\n",
       "\n",
       "// from https://stackoverflow.com/questions/1114465/getting-mouse-location-in-canvas\n",
       "mpl.findpos = function (e) {\n",
       "    //this section is from http://www.quirksmode.org/js/events_properties.html\n",
       "    var targ;\n",
       "    if (!e) {\n",
       "        e = window.event;\n",
       "    }\n",
       "    if (e.target) {\n",
       "        targ = e.target;\n",
       "    } else if (e.srcElement) {\n",
       "        targ = e.srcElement;\n",
       "    }\n",
       "    if (targ.nodeType === 3) {\n",
       "        // defeat Safari bug\n",
       "        targ = targ.parentNode;\n",
       "    }\n",
       "\n",
       "    // pageX,Y are the mouse positions relative to the document\n",
       "    var boundingRect = targ.getBoundingClientRect();\n",
       "    var x = e.pageX - (boundingRect.left + document.body.scrollLeft);\n",
       "    var y = e.pageY - (boundingRect.top + document.body.scrollTop);\n",
       "\n",
       "    return { x: x, y: y };\n",
       "};\n",
       "\n",
       "/*\n",
       " * return a copy of an object with only non-object keys\n",
       " * we need this to avoid circular references\n",
       " * https://stackoverflow.com/a/24161582/3208463\n",
       " */\n",
       "function simpleKeys(original) {\n",
       "    return Object.keys(original).reduce(function (obj, key) {\n",
       "        if (typeof original[key] !== 'object') {\n",
       "            obj[key] = original[key];\n",
       "        }\n",
       "        return obj;\n",
       "    }, {});\n",
       "}\n",
       "\n",
       "mpl.figure.prototype.mouse_event = function (event, name) {\n",
       "    var canvas_pos = mpl.findpos(event);\n",
       "\n",
       "    if (name === 'button_press') {\n",
       "        this.canvas.focus();\n",
       "        this.canvas_div.focus();\n",
       "    }\n",
       "\n",
       "    var x = canvas_pos.x * this.ratio;\n",
       "    var y = canvas_pos.y * this.ratio;\n",
       "\n",
       "    this.send_message(name, {\n",
       "        x: x,\n",
       "        y: y,\n",
       "        button: event.button,\n",
       "        step: event.step,\n",
       "        guiEvent: simpleKeys(event),\n",
       "    });\n",
       "\n",
       "    /* This prevents the web browser from automatically changing to\n",
       "     * the text insertion cursor when the button is pressed.  We want\n",
       "     * to control all of the cursor setting manually through the\n",
       "     * 'cursor' event from matplotlib */\n",
       "    event.preventDefault();\n",
       "    return false;\n",
       "};\n",
       "\n",
       "mpl.figure.prototype._key_event_extra = function (_event, _name) {\n",
       "    // Handle any extra behaviour associated with a key event\n",
       "};\n",
       "\n",
       "mpl.figure.prototype.key_event = function (event, name) {\n",
       "    // Prevent repeat events\n",
       "    if (name === 'key_press') {\n",
       "        if (event.key === this._key) {\n",
       "            return;\n",
       "        } else {\n",
       "            this._key = event.key;\n",
       "        }\n",
       "    }\n",
       "    if (name === 'key_release') {\n",
       "        this._key = null;\n",
       "    }\n",
       "\n",
       "    var value = '';\n",
       "    if (event.ctrlKey && event.key !== 'Control') {\n",
       "        value += 'ctrl+';\n",
       "    }\n",
       "    else if (event.altKey && event.key !== 'Alt') {\n",
       "        value += 'alt+';\n",
       "    }\n",
       "    else if (event.shiftKey && event.key !== 'Shift') {\n",
       "        value += 'shift+';\n",
       "    }\n",
       "\n",
       "    value += 'k' + event.key;\n",
       "\n",
       "    this._key_event_extra(event, name);\n",
       "\n",
       "    this.send_message(name, { key: value, guiEvent: simpleKeys(event) });\n",
       "    return false;\n",
       "};\n",
       "\n",
       "mpl.figure.prototype.toolbar_button_onclick = function (name) {\n",
       "    if (name === 'download') {\n",
       "        this.handle_save(this, null);\n",
       "    } else {\n",
       "        this.send_message('toolbar_button', { name: name });\n",
       "    }\n",
       "};\n",
       "\n",
       "mpl.figure.prototype.toolbar_button_onmouseover = function (tooltip) {\n",
       "    this.message.textContent = tooltip;\n",
       "};\n",
       "\n",
       "///////////////// REMAINING CONTENT GENERATED BY embed_js.py /////////////////\n",
       "// prettier-ignore\n",
       "var _JSXTOOLS_RESIZE_OBSERVER=function(A){var t,i=new WeakMap,n=new WeakMap,a=new WeakMap,r=new WeakMap,o=new Set;function s(e){if(!(this instanceof s))throw new TypeError(\"Constructor requires 'new' operator\");i.set(this,e)}function h(){throw new TypeError(\"Function is not a constructor\")}function c(e,t,i,n){e=0 in arguments?Number(arguments[0]):0,t=1 in arguments?Number(arguments[1]):0,i=2 in arguments?Number(arguments[2]):0,n=3 in arguments?Number(arguments[3]):0,this.right=(this.x=this.left=e)+(this.width=i),this.bottom=(this.y=this.top=t)+(this.height=n),Object.freeze(this)}function d(){t=requestAnimationFrame(d);var s=new WeakMap,p=new Set;o.forEach((function(t){r.get(t).forEach((function(i){var r=t instanceof window.SVGElement,o=a.get(t),d=r?0:parseFloat(o.paddingTop),f=r?0:parseFloat(o.paddingRight),l=r?0:parseFloat(o.paddingBottom),u=r?0:parseFloat(o.paddingLeft),g=r?0:parseFloat(o.borderTopWidth),m=r?0:parseFloat(o.borderRightWidth),w=r?0:parseFloat(o.borderBottomWidth),b=u+f,F=d+l,v=(r?0:parseFloat(o.borderLeftWidth))+m,W=g+w,y=r?0:t.offsetHeight-W-t.clientHeight,E=r?0:t.offsetWidth-v-t.clientWidth,R=b+v,z=F+W,M=r?t.width:parseFloat(o.width)-R-E,O=r?t.height:parseFloat(o.height)-z-y;if(n.has(t)){var k=n.get(t);if(k[0]===M&&k[1]===O)return}n.set(t,[M,O]);var S=Object.create(h.prototype);S.target=t,S.contentRect=new c(u,d,M,O),s.has(i)||(s.set(i,[]),p.add(i)),s.get(i).push(S)}))})),p.forEach((function(e){i.get(e).call(e,s.get(e),e)}))}return s.prototype.observe=function(i){if(i instanceof window.Element){r.has(i)||(r.set(i,new Set),o.add(i),a.set(i,window.getComputedStyle(i)));var n=r.get(i);n.has(this)||n.add(this),cancelAnimationFrame(t),t=requestAnimationFrame(d)}},s.prototype.unobserve=function(i){if(i instanceof window.Element&&r.has(i)){var n=r.get(i);n.has(this)&&(n.delete(this),n.size||(r.delete(i),o.delete(i))),n.size||r.delete(i),o.size||cancelAnimationFrame(t)}},A.DOMRectReadOnly=c,A.ResizeObserver=s,A.ResizeObserverEntry=h,A}; // eslint-disable-line\n",
       "mpl.toolbar_items = [[\"Home\", \"Reset original view\", \"fa fa-home icon-home\", \"home\"], [\"Back\", \"Back to previous view\", \"fa fa-arrow-left icon-arrow-left\", \"back\"], [\"Forward\", \"Forward to next view\", \"fa fa-arrow-right icon-arrow-right\", \"forward\"], [\"\", \"\", \"\", \"\"], [\"Pan\", \"Left button pans, Right button zooms\\nx/y fixes axis, CTRL fixes aspect\", \"fa fa-arrows icon-move\", \"pan\"], [\"Zoom\", \"Zoom to rectangle\\nx/y fixes axis\", \"fa fa-square-o icon-check-empty\", \"zoom\"], [\"\", \"\", \"\", \"\"], [\"Download\", \"Download plot\", \"fa fa-floppy-o icon-save\", \"download\"]];\n",
       "\n",
       "mpl.extensions = [\"eps\", \"jpeg\", \"pgf\", \"pdf\", \"png\", \"ps\", \"raw\", \"svg\", \"tif\"];\n",
       "\n",
       "mpl.default_extension = \"png\";/* global mpl */\n",
       "\n",
       "var comm_websocket_adapter = function (comm) {\n",
       "    // Create a \"websocket\"-like object which calls the given IPython comm\n",
       "    // object with the appropriate methods. Currently this is a non binary\n",
       "    // socket, so there is still some room for performance tuning.\n",
       "    var ws = {};\n",
       "\n",
       "    ws.binaryType = comm.kernel.ws.binaryType;\n",
       "    ws.readyState = comm.kernel.ws.readyState;\n",
       "    function updateReadyState(_event) {\n",
       "        if (comm.kernel.ws) {\n",
       "            ws.readyState = comm.kernel.ws.readyState;\n",
       "        } else {\n",
       "            ws.readyState = 3; // Closed state.\n",
       "        }\n",
       "    }\n",
       "    comm.kernel.ws.addEventListener('open', updateReadyState);\n",
       "    comm.kernel.ws.addEventListener('close', updateReadyState);\n",
       "    comm.kernel.ws.addEventListener('error', updateReadyState);\n",
       "\n",
       "    ws.close = function () {\n",
       "        comm.close();\n",
       "    };\n",
       "    ws.send = function (m) {\n",
       "        //console.log('sending', m);\n",
       "        comm.send(m);\n",
       "    };\n",
       "    // Register the callback with on_msg.\n",
       "    comm.on_msg(function (msg) {\n",
       "        //console.log('receiving', msg['content']['data'], msg);\n",
       "        var data = msg['content']['data'];\n",
       "        if (data['blob'] !== undefined) {\n",
       "            data = {\n",
       "                data: new Blob(msg['buffers'], { type: data['blob'] }),\n",
       "            };\n",
       "        }\n",
       "        // Pass the mpl event to the overridden (by mpl) onmessage function.\n",
       "        ws.onmessage(data);\n",
       "    });\n",
       "    return ws;\n",
       "};\n",
       "\n",
       "mpl.mpl_figure_comm = function (comm, msg) {\n",
       "    // This is the function which gets called when the mpl process\n",
       "    // starts-up an IPython Comm through the \"matplotlib\" channel.\n",
       "\n",
       "    var id = msg.content.data.id;\n",
       "    // Get hold of the div created by the display call when the Comm\n",
       "    // socket was opened in Python.\n",
       "    var element = document.getElementById(id);\n",
       "    var ws_proxy = comm_websocket_adapter(comm);\n",
       "\n",
       "    function ondownload(figure, _format) {\n",
       "        window.open(figure.canvas.toDataURL());\n",
       "    }\n",
       "\n",
       "    var fig = new mpl.figure(id, ws_proxy, ondownload, element);\n",
       "\n",
       "    // Call onopen now - mpl needs it, as it is assuming we've passed it a real\n",
       "    // web socket which is closed, not our websocket->open comm proxy.\n",
       "    ws_proxy.onopen();\n",
       "\n",
       "    fig.parent_element = element;\n",
       "    fig.cell_info = mpl.find_output_cell(\"<div id='\" + id + \"'></div>\");\n",
       "    if (!fig.cell_info) {\n",
       "        console.error('Failed to find cell for figure', id, fig);\n",
       "        return;\n",
       "    }\n",
       "    fig.cell_info[0].output_area.element.on(\n",
       "        'cleared',\n",
       "        { fig: fig },\n",
       "        fig._remove_fig_handler\n",
       "    );\n",
       "};\n",
       "\n",
       "mpl.figure.prototype.handle_close = function (fig, msg) {\n",
       "    var width = fig.canvas.width / fig.ratio;\n",
       "    fig.cell_info[0].output_area.element.off(\n",
       "        'cleared',\n",
       "        fig._remove_fig_handler\n",
       "    );\n",
       "    fig.resizeObserverInstance.unobserve(fig.canvas_div);\n",
       "\n",
       "    // Update the output cell to use the data from the current canvas.\n",
       "    fig.push_to_output();\n",
       "    var dataURL = fig.canvas.toDataURL();\n",
       "    // Re-enable the keyboard manager in IPython - without this line, in FF,\n",
       "    // the notebook keyboard shortcuts fail.\n",
       "    IPython.keyboard_manager.enable();\n",
       "    fig.parent_element.innerHTML =\n",
       "        '<img src=\"' + dataURL + '\" width=\"' + width + '\">';\n",
       "    fig.close_ws(fig, msg);\n",
       "};\n",
       "\n",
       "mpl.figure.prototype.close_ws = function (fig, msg) {\n",
       "    fig.send_message('closing', msg);\n",
       "    // fig.ws.close()\n",
       "};\n",
       "\n",
       "mpl.figure.prototype.push_to_output = function (_remove_interactive) {\n",
       "    // Turn the data on the canvas into data in the output cell.\n",
       "    var width = this.canvas.width / this.ratio;\n",
       "    var dataURL = this.canvas.toDataURL();\n",
       "    this.cell_info[1]['text/html'] =\n",
       "        '<img src=\"' + dataURL + '\" width=\"' + width + '\">';\n",
       "};\n",
       "\n",
       "mpl.figure.prototype.updated_canvas_event = function () {\n",
       "    // Tell IPython that the notebook contents must change.\n",
       "    IPython.notebook.set_dirty(true);\n",
       "    this.send_message('ack', {});\n",
       "    var fig = this;\n",
       "    // Wait a second, then push the new image to the DOM so\n",
       "    // that it is saved nicely (might be nice to debounce this).\n",
       "    setTimeout(function () {\n",
       "        fig.push_to_output();\n",
       "    }, 1000);\n",
       "};\n",
       "\n",
       "mpl.figure.prototype._init_toolbar = function () {\n",
       "    var fig = this;\n",
       "\n",
       "    var toolbar = document.createElement('div');\n",
       "    toolbar.classList = 'btn-toolbar';\n",
       "    this.root.appendChild(toolbar);\n",
       "\n",
       "    function on_click_closure(name) {\n",
       "        return function (_event) {\n",
       "            return fig.toolbar_button_onclick(name);\n",
       "        };\n",
       "    }\n",
       "\n",
       "    function on_mouseover_closure(tooltip) {\n",
       "        return function (event) {\n",
       "            if (!event.currentTarget.disabled) {\n",
       "                return fig.toolbar_button_onmouseover(tooltip);\n",
       "            }\n",
       "        };\n",
       "    }\n",
       "\n",
       "    fig.buttons = {};\n",
       "    var buttonGroup = document.createElement('div');\n",
       "    buttonGroup.classList = 'btn-group';\n",
       "    var button;\n",
       "    for (var toolbar_ind in mpl.toolbar_items) {\n",
       "        var name = mpl.toolbar_items[toolbar_ind][0];\n",
       "        var tooltip = mpl.toolbar_items[toolbar_ind][1];\n",
       "        var image = mpl.toolbar_items[toolbar_ind][2];\n",
       "        var method_name = mpl.toolbar_items[toolbar_ind][3];\n",
       "\n",
       "        if (!name) {\n",
       "            /* Instead of a spacer, we start a new button group. */\n",
       "            if (buttonGroup.hasChildNodes()) {\n",
       "                toolbar.appendChild(buttonGroup);\n",
       "            }\n",
       "            buttonGroup = document.createElement('div');\n",
       "            buttonGroup.classList = 'btn-group';\n",
       "            continue;\n",
       "        }\n",
       "\n",
       "        button = fig.buttons[name] = document.createElement('button');\n",
       "        button.classList = 'btn btn-default';\n",
       "        button.href = '#';\n",
       "        button.title = name;\n",
       "        button.innerHTML = '<i class=\"fa ' + image + ' fa-lg\"></i>';\n",
       "        button.addEventListener('click', on_click_closure(method_name));\n",
       "        button.addEventListener('mouseover', on_mouseover_closure(tooltip));\n",
       "        buttonGroup.appendChild(button);\n",
       "    }\n",
       "\n",
       "    if (buttonGroup.hasChildNodes()) {\n",
       "        toolbar.appendChild(buttonGroup);\n",
       "    }\n",
       "\n",
       "    // Add the status bar.\n",
       "    var status_bar = document.createElement('span');\n",
       "    status_bar.classList = 'mpl-message pull-right';\n",
       "    toolbar.appendChild(status_bar);\n",
       "    this.message = status_bar;\n",
       "\n",
       "    // Add the close button to the window.\n",
       "    var buttongrp = document.createElement('div');\n",
       "    buttongrp.classList = 'btn-group inline pull-right';\n",
       "    button = document.createElement('button');\n",
       "    button.classList = 'btn btn-mini btn-primary';\n",
       "    button.href = '#';\n",
       "    button.title = 'Stop Interaction';\n",
       "    button.innerHTML = '<i class=\"fa fa-power-off icon-remove icon-large\"></i>';\n",
       "    button.addEventListener('click', function (_evt) {\n",
       "        fig.handle_close(fig, {});\n",
       "    });\n",
       "    button.addEventListener(\n",
       "        'mouseover',\n",
       "        on_mouseover_closure('Stop Interaction')\n",
       "    );\n",
       "    buttongrp.appendChild(button);\n",
       "    var titlebar = this.root.querySelector('.ui-dialog-titlebar');\n",
       "    titlebar.insertBefore(buttongrp, titlebar.firstChild);\n",
       "};\n",
       "\n",
       "mpl.figure.prototype._remove_fig_handler = function (event) {\n",
       "    var fig = event.data.fig;\n",
       "    if (event.target !== this) {\n",
       "        // Ignore bubbled events from children.\n",
       "        return;\n",
       "    }\n",
       "    fig.close_ws(fig, {});\n",
       "};\n",
       "\n",
       "mpl.figure.prototype._root_extra_style = function (el) {\n",
       "    el.style.boxSizing = 'content-box'; // override notebook setting of border-box.\n",
       "};\n",
       "\n",
       "mpl.figure.prototype._canvas_extra_style = function (el) {\n",
       "    // this is important to make the div 'focusable\n",
       "    el.setAttribute('tabindex', 0);\n",
       "    // reach out to IPython and tell the keyboard manager to turn it's self\n",
       "    // off when our div gets focus\n",
       "\n",
       "    // location in version 3\n",
       "    if (IPython.notebook.keyboard_manager) {\n",
       "        IPython.notebook.keyboard_manager.register_events(el);\n",
       "    } else {\n",
       "        // location in version 2\n",
       "        IPython.keyboard_manager.register_events(el);\n",
       "    }\n",
       "};\n",
       "\n",
       "mpl.figure.prototype._key_event_extra = function (event, _name) {\n",
       "    // Check for shift+enter\n",
       "    if (event.shiftKey && event.which === 13) {\n",
       "        this.canvas_div.blur();\n",
       "        // select the cell after this one\n",
       "        var index = IPython.notebook.find_cell_index(this.cell_info[0]);\n",
       "        IPython.notebook.select(index + 1);\n",
       "    }\n",
       "};\n",
       "\n",
       "mpl.figure.prototype.handle_save = function (fig, _msg) {\n",
       "    fig.ondownload(fig, null);\n",
       "};\n",
       "\n",
       "mpl.find_output_cell = function (html_output) {\n",
       "    // Return the cell and output element which can be found *uniquely* in the notebook.\n",
       "    // Note - this is a bit hacky, but it is done because the \"notebook_saving.Notebook\"\n",
       "    // IPython event is triggered only after the cells have been serialised, which for\n",
       "    // our purposes (turning an active figure into a static one), is too late.\n",
       "    var cells = IPython.notebook.get_cells();\n",
       "    var ncells = cells.length;\n",
       "    for (var i = 0; i < ncells; i++) {\n",
       "        var cell = cells[i];\n",
       "        if (cell.cell_type === 'code') {\n",
       "            for (var j = 0; j < cell.output_area.outputs.length; j++) {\n",
       "                var data = cell.output_area.outputs[j];\n",
       "                if (data.data) {\n",
       "                    // IPython >= 3 moved mimebundle to data attribute of output\n",
       "                    data = data.data;\n",
       "                }\n",
       "                if (data['text/html'] === html_output) {\n",
       "                    return [cell, data, j];\n",
       "                }\n",
       "            }\n",
       "        }\n",
       "    }\n",
       "};\n",
       "\n",
       "// Register the function which deals with the matplotlib target/channel.\n",
       "// The kernel may be null if the page has been refreshed.\n",
       "if (IPython.notebook.kernel !== null) {\n",
       "    IPython.notebook.kernel.comm_manager.register_target(\n",
       "        'matplotlib',\n",
       "        mpl.mpl_figure_comm\n",
       "    );\n",
       "}\n"
      ],
      "text/plain": [
       "<IPython.core.display.Javascript object>"
      ]
     },
     "metadata": {},
     "output_type": "display_data"
    },
    {
     "data": {
      "text/html": [
       "<img src=\"data:image/png;base64,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\" width=\"640\">"
      ],
      "text/plain": [
       "<IPython.core.display.HTML object>"
      ]
     },
     "metadata": {},
     "output_type": "display_data"
    },
    {
     "data": {
      "text/plain": [
       "[<matplotlib.lines.Line2D at 0x23534ccb6d0>]"
      ]
     },
     "execution_count": 3,
     "metadata": {},
     "output_type": "execute_result"
    }
   ],
   "source": [
    "# Para que las gráficas se muestren sobre el propio notebook, en lugar de en una ventana, hay que escribir:\n",
    "%matplotlib notebook    \n",
    "\n",
    "from matplotlib import pyplot  # pyplot es el módulo que permite dibujar gráficas matemáticas\n",
    "%matplotlib notebook\n",
    "x = []   # \"x\" es una lista vacía, es decir, aún no contiene elementos\n",
    "y = []   # \"y\" también es una lista vacía\n",
    "for i in range(20):\n",
    "    x.append(randint(-50, 50))\n",
    "    y.append(randint(-50, 50))\n",
    "\n",
    "# El tercer parámetro sirve para especificar el formato de la representación gráfica de los datos\n",
    "pyplot.plot(x, y, \"o\")"
   ]
  },
  {
   "cell_type": "markdown",
   "metadata": {},
   "source": [
    "Todos los paquetes, módulos y librerías más usados están ampliamente documentados en Internet: sólo tienes que hacer una consulta a tu buscador favorito. Por ejemplo, si quieres ver qué otras cosas se pueden hacer con la función *plot*, puedes verlo aquí: https://matplotlib.org/api/pyplot_api.html#matplotlib.pyplot.plot"
   ]
  },
  {
   "cell_type": "markdown",
   "metadata": {},
   "source": [
    "### ¡Prueba tú!"
   ]
  },
  {
   "cell_type": "markdown",
   "metadata": {},
   "source": [
    "Intenta completar el siguiente código para mostrar una gráfica de la función coseno para los valores de la x contenidos en el intervalo \\[-10,10\\]. Busca documentación sobre el módulo **math** para ver cómo calcular el coseno de un número [prueba buscando en Google \"math Python 3\"](https://www.google.es/search?q=math+Python+3)."
   ]
  },
  {
   "cell_type": "code",
   "execution_count": 32,
   "metadata": {
    "collapsed": true
   },
   "outputs": [],
   "source": [
    "%matplotlib notebook    \n",
    "import math\n",
    "\n",
    "lista_x = []  # En esta lista guardaremos los valores para los que vamos a calcular el coseno\n",
    "for i in range(-100, 101):\n",
    "    lista_x.append(i/10) # ESCRIBE AQUÍ una instrucción para \"añadir a lista_x el valor i / 10\"\n",
    "    \n",
    "lista_y = []  # En esta lista guardaremos los cosenos de los valores anteriores\n",
    "for x in lista_x:\n",
    "    lista_y.append(math.cos(x)) # ESCRIBE AQUÍ una instrucción para \"añadir a lista_y el valor coseno(x)\"\n",
    "    \n",
    "\n",
    "# ESCRIBE AQUÍ una instrucción para dibujar la gráfica correspondiente a las coordenadas lista_x y lista_y.\n",
    "# Elige las opciones de formato de la representación gráfica que quieras\n",
    "\n",
    "\n",
    "\n"
   ]
  },
  {
   "cell_type": "markdown",
   "metadata": {},
   "source": [
    "Cuando construimos una lista a partir de otra, como ocurre con *lista_y* en el código que acabas de completar, podemos hacerlo de una forma muy compacta llamada **definición de listas por comprensión**. Observa el siguiente ejemplo:"
   ]
  },
  {
   "cell_type": "code",
   "execution_count": 25,
   "metadata": {
    "collapsed": true
   },
   "outputs": [
    {
     "ename": "KeyboardInterrupt",
     "evalue": "",
     "output_type": "error",
     "traceback": [
      "\u001b[1;31m---------------------------------------------------------------------------\u001b[0m",
      "\u001b[1;31mKeyboardInterrupt\u001b[0m                         Traceback (most recent call last)",
      "\u001b[1;32mc:\\Users\\EMILIOPC\\Desktop\\Ing. Software\\FP\\1. Introducción a Python\\Introducción a Python - Conceptos básicos de programación .ipynb Celda 121\u001b[0m in \u001b[0;36m<cell line: 1>\u001b[1;34m()\u001b[0m\n\u001b[0;32m      <a href='vscode-notebook-cell:/c%3A/Users/EMILIOPC/Desktop/Ing.%20Software/FP/1.%20Introducci%C3%B3n%20a%20Python/Introducci%C3%B3n%20a%20Python%20-%20Conceptos%20b%C3%A1sicos%20de%20programaci%C3%B3n%20.ipynb#Y231sZmlsZQ%3D%3D?line=0'>1</a>\u001b[0m \u001b[39mfor\u001b[39;00m x \u001b[39min\u001b[39;00m lista_x:\n\u001b[1;32m----> <a href='vscode-notebook-cell:/c%3A/Users/EMILIOPC/Desktop/Ing.%20Software/FP/1.%20Introducci%C3%B3n%20a%20Python/Introducci%C3%B3n%20a%20Python%20-%20Conceptos%20b%C3%A1sicos%20de%20programaci%C3%B3n%20.ipynb#Y231sZmlsZQ%3D%3D?line=1'>2</a>\u001b[0m     lista_x\u001b[39m.\u001b[39mappend(math\u001b[39m.\u001b[39mcos(x))\n\u001b[0;32m      <a href='vscode-notebook-cell:/c%3A/Users/EMILIOPC/Desktop/Ing.%20Software/FP/1.%20Introducci%C3%B3n%20a%20Python/Introducci%C3%B3n%20a%20Python%20-%20Conceptos%20b%C3%A1sicos%20de%20programaci%C3%B3n%20.ipynb#Y231sZmlsZQ%3D%3D?line=2'>3</a>\u001b[0m \u001b[39mprint\u001b[39m(lista_y)\n\u001b[0;32m      <a href='vscode-notebook-cell:/c%3A/Users/EMILIOPC/Desktop/Ing.%20Software/FP/1.%20Introducci%C3%B3n%20a%20Python/Introducci%C3%B3n%20a%20Python%20-%20Conceptos%20b%C3%A1sicos%20de%20programaci%C3%B3n%20.ipynb#Y231sZmlsZQ%3D%3D?line=4'>5</a>\u001b[0m lista_y \u001b[39m=\u001b[39m [math\u001b[39m.\u001b[39mcos(x) \u001b[39mfor\u001b[39;00m x \u001b[39min\u001b[39;00m lista_x]\n",
      "\u001b[1;31mKeyboardInterrupt\u001b[0m: "
     ]
    }
   ],
   "source": [
    "for x in lista_x:\n",
    "    lista_x.append(math.cos(x))\n",
    "print(lista_y)\n",
    "\n",
    "lista_y = [math.cos(x) for x in lista_x]\n",
    "print(lista_y)"
   ]
  },
  {
   "cell_type": "markdown",
   "metadata": {},
   "source": [
    "## 8. Ficheros"
   ]
  },
  {
   "cell_type": "markdown",
   "metadata": {},
   "source": [
    "Es muy habitual trabajar con **ficheros** (quizás estés acostumbrado a referirte a ellos como \"archivos\", que es un sinónimo). Aunque los ficheros pueden contener todo tipo de datos, nosotros trabajaremos con ficheros de texto. Al igual que haces tú mismo cuando quieres trabajar con un documento en el ordenador, para trabajar con un fichero en Python primero tenemos que abrirlo; después podemos leer o escribir datos en el mismo, y finalmente hemos de cerrarlo. Aquí tienes un pequeño ejemplo que abre un fichero de texto y muestra su contenido en pantalla:\n"
   ]
  },
  {
   "cell_type": "code",
   "execution_count": 28,
   "metadata": {
    "collapsed": true
   },
   "outputs": [
    {
     "name": "stdout",
     "output_type": "stream",
     "text": [
      "Un pequeño texto de prueba.\n",
      "\n",
      "Sólo hay dos líneas en este fichero.\n"
     ]
    }
   ],
   "source": [
    "with open(\"prueba.txt\", encoding= 'utf-8') as f:\n",
    "    for linea in f:\n",
    "        print(linea)\n",
    "\n",
    "# El archivo se cierra automáticamente cuando acaban las instrucciones escritas dentro de la instrucción \"with\""
   ]
  },
  {
   "cell_type": "markdown",
   "metadata": {},
   "source": [
    "Si el código anterior ocasiona un error al ser ejecutado, asegúrate de que tienes el archivo *prueba.txt* en la misma carpeta desde la que estás ejecutando este notebook.\n",
    "\n",
    "También es posible que al ejecutar Python te devuelva un \"error de codificación\", o que te muestre el contenido del fichero de texto con algunos errores (algunos caracteres aparecen de manera extraña). Esto ocurre porque existen múltiples maneras de representar los caracteres de un fichero de texto en notación binaria. Es lo que se conoce como **codificación de caracteres**. Cada sistema operativo tiene su codificación por defecto, de manera que las líneas que acabamos de escribir para leer un fichero de texto dan por hecho que el fichero de texto está expresado en dicha codificación por defecto (la cuál puede no ser la correcta en tu caso). Para evitar estos problemas, siempre que trabajemos con ficheros de texto en la asignatura estableceremos que los ficheros de texto estén en codificación **UTF-8**. Esto se consigue añadiendo un parámetro a la función open:"
   ]
  },
  {
   "cell_type": "code",
   "execution_count": null,
   "metadata": {
    "collapsed": true
   },
   "outputs": [],
   "source": [
    "with open(\"prueba.txt\", encoding='utf-8') as f:\n",
    "    for linea in f:\n",
    "        print(linea)\n",
    "\n",
    "# El archivo se cierra automáticamente cuando acaban las instrucciones escritas dentro de la instrucción \"with\""
   ]
  },
  {
   "cell_type": "markdown",
   "metadata": {},
   "source": [
    "## 9. Función principal"
   ]
  },
  {
   "cell_type": "markdown",
   "metadata": {},
   "source": [
    "Cuando escribimos nuestro código en un fichero de texto con extensión \".py\", estamos definiendo un módulo. Otros programadores podrán importar nuestro módulo, y hacer uso en sus programas de las funciones que hayamos definido en el mismo, o de las variables y objetos que aparezcan definidos sin indentar.\n",
    "\n",
    "Sin embargo, algunas veces queremos que el código que hemos escrito sea ejecutado por un usuario; es decir, estamos definiendo un **programa ejecutable**. En este caso, el usuario puede ejecutar el programa con el siguiente comando, escrito desde el **terminal** o **ventana de comandos** del sistema operativo:\n",
    "\n",
    "<pre>\n",
    "python nombre_fichero.py\n",
    "</pre>\n",
    "\n",
    "Cuando un programa es ejecutable, debe existir un **punto de entrada**. Un punto de entrada es un conjunto de instrucciones que se ejecutarán cuando se lance el programa. En Python, estas instrucciones se deben escribir dentro de un bloque **if** como el que se muestra a continuación:"
   ]
  },
  {
   "cell_type": "code",
   "execution_count": 29,
   "metadata": {
    "collapsed": true
   },
   "outputs": [
    {
     "name": "stdout",
     "output_type": "stream",
     "text": [
      "Buenas tardes, Fermín\n"
     ]
    }
   ],
   "source": [
    "if __name__ == '__main__':\n",
    "    # Aquí vienen las instrucciones que definen el punto de entrada del programa\n",
    "    hora_actual = datetime.now() \n",
    "    saluda(\"Fermín\", hora_actual.hour)\n",
    "    "
   ]
  },
  {
   "cell_type": "markdown",
   "metadata": {},
   "source": [
    "A veces, el conjunto de instrucciones que definen el punto de entrada se escribe dentro de una función, a la que se le suele dar el nombre **main**. Esto en Python no es obligatorio, aunque sí lo es en otros lenguajes de programación. Si queremos hacerlo así, entonces el programa ejecutable anterior quedaría como sigue (se muestra a continuación el programa completo, con las sentencias *import* y las definiciones de funciones necesarias):\n"
   ]
  },
  {
   "cell_type": "code",
   "execution_count": 30,
   "metadata": {
    "collapsed": true
   },
   "outputs": [
    {
     "name": "stdout",
     "output_type": "stream",
     "text": [
      "Buenas tardes, Fermín\n"
     ]
    }
   ],
   "source": [
    "from datetime import datetime\n",
    "\n",
    "\n",
    "def main():\n",
    "    hora_actual = datetime.now() \n",
    "    saluda(\"Fermín\", hora_actual.hour)\n",
    "\n",
    "\n",
    "def saluda(nombre, hora):\n",
    "    if hora < 12:     # Si el parámetro \"hora\" es menor de 12, se ejecuta el siguiente bloque de instrucciones\n",
    "        print(\"Buenos días, \" + nombre)\n",
    "    elif hora < 21:   # En otro caso, si el parámetro \"hora\" es menor de 21, se ejecuta el siguiente bloque de instrucciones\n",
    "        print(\"Buenas tardes, \" + nombre)\n",
    "    else:           # En cualquier otro caso, se ejecuta el siguiente bloque de instrucciones\n",
    "        print(\"Buenas noches, \" + nombre)\n",
    "\n",
    "\n",
    "if __name__ == '__main__':\n",
    "    main()\n",
    " "
   ]
  },
  {
   "cell_type": "markdown",
   "metadata": {},
   "source": [
    "### ¡Prueba tú!"
   ]
  },
  {
   "cell_type": "markdown",
   "metadata": {},
   "source": [
    "Escribe el código anterior en un fichero de texto llamado \"saluda.py\", y trata de ejecutarlo desde el terminal o ventana de comandos de tu sistema operativo."
   ]
  },
  {
   "cell_type": "markdown",
   "metadata": {},
   "source": [
    "---\n",
    "\n",
    "Ya sabes lo básico para entender programas simples escritos en Python y para escribir los tuyos propios. **¡Feliz programación!**"
   ]
  },
  {
   "cell_type": "code",
   "execution_count": 31,
   "metadata": {
    "collapsed": true
   },
   "outputs": [
    {
     "name": "stdout",
     "output_type": "stream",
     "text": [
      "The Zen of Python, by Tim Peters\n",
      "\n",
      "Beautiful is better than ugly.\n",
      "Explicit is better than implicit.\n",
      "Simple is better than complex.\n",
      "Complex is better than complicated.\n",
      "Flat is better than nested.\n",
      "Sparse is better than dense.\n",
      "Readability counts.\n",
      "Special cases aren't special enough to break the rules.\n",
      "Although practicality beats purity.\n",
      "Errors should never pass silently.\n",
      "Unless explicitly silenced.\n",
      "In the face of ambiguity, refuse the temptation to guess.\n",
      "There should be one-- and preferably only one --obvious way to do it.\n",
      "Although that way may not be obvious at first unless you're Dutch.\n",
      "Now is better than never.\n",
      "Although never is often better than *right* now.\n",
      "If the implementation is hard to explain, it's a bad idea.\n",
      "If the implementation is easy to explain, it may be a good idea.\n",
      "Namespaces are one honking great idea -- let's do more of those!\n"
     ]
    }
   ],
   "source": [
    "# ¿Conoces el \"Zen de Python\"?\n",
    "import this"
   ]
  }
 ],
 "metadata": {
  "anaconda-cloud": {},
  "celltoolbar": "Raw Cell Format",
  "kernelspec": {
   "display_name": "Python 3 (ipykernel)",
   "language": "python",
   "name": "python3"
  },
  "language_info": {
   "codemirror_mode": {
    "name": "ipython",
    "version": 3
   },
   "file_extension": ".py",
   "mimetype": "text/x-python",
   "name": "python",
   "nbconvert_exporter": "python",
   "pygments_lexer": "ipython3",
   "version": "3.9.12"
  },
  "nbpresent": {
   "slides": {
    "1390653e-bdb6-444a-b611-39c60ffb77a1": {
     "id": "1390653e-bdb6-444a-b611-39c60ffb77a1",
     "prev": "5c2c8cc8-3676-4c06-b94c-d3f866ade69b",
     "regions": {
      "620813b3-9326-41e6-9d30-f5ac4f858225": {
       "attrs": {
        "height": 0.8,
        "width": 0.8,
        "x": 0.1,
        "y": 0.1
       },
       "content": {
        "cell": "86423d42-e808-47e6-b1a7-e925e195f821",
        "part": "whole"
       },
       "id": "620813b3-9326-41e6-9d30-f5ac4f858225"
      }
     }
    },
    "21036f68-a492-4532-a832-b213435c0ad2": {
     "id": "21036f68-a492-4532-a832-b213435c0ad2",
     "prev": "2c1c7f11-e5ee-4a25-8975-f0b033ba739a",
     "regions": {
      "a3908958-0784-4faa-ac97-b9325abe8ede": {
       "attrs": {
        "height": 0.8,
        "width": 0.8,
        "x": 0.1,
        "y": 0.1
       },
       "content": {
        "cell": "9aa64747-dc13-4bd9-bf26-73606628ad1c",
        "part": "whole"
       },
       "id": "a3908958-0784-4faa-ac97-b9325abe8ede"
      }
     }
    },
    "2c1c7f11-e5ee-4a25-8975-f0b033ba739a": {
     "id": "2c1c7f11-e5ee-4a25-8975-f0b033ba739a",
     "prev": "f3f10f50-4cad-4149-b308-c66e6a493a72",
     "regions": {
      "9e2d820e-ec17-4915-b960-0e0d5f640379": {
       "attrs": {
        "height": 0.8,
        "width": 0.8,
        "x": 0.1,
        "y": 0.1
       },
       "content": {
        "cell": "0281a659-abae-4cb9-b30f-b552b9db399e",
        "part": "whole"
       },
       "id": "9e2d820e-ec17-4915-b960-0e0d5f640379"
      }
     }
    },
    "30509a9a-dbd8-4dbd-9fab-852a7266d894": {
     "id": "30509a9a-dbd8-4dbd-9fab-852a7266d894",
     "prev": "8b078b7a-c2c6-4129-a19f-2a4f5c4a26f3",
     "regions": {
      "7baa4379-8f84-4d8f-b002-5a5ffd051489": {
       "attrs": {
        "height": 0.8,
        "width": 0.8,
        "x": 0.1,
        "y": 0.1
       },
       "content": {
        "cell": "14d1a927-b37f-4323-9404-17d453f3b487",
        "part": "whole"
       },
       "id": "7baa4379-8f84-4d8f-b002-5a5ffd051489"
      }
     }
    },
    "42d1bd80-265e-4acf-bbc1-b202afddade3": {
     "id": "42d1bd80-265e-4acf-bbc1-b202afddade3",
     "prev": "9bfe6214-4631-45b5-a05e-8923f178bb57",
     "regions": {
      "f2340145-4108-4fed-a0bc-4b91ca6c10ae": {
       "attrs": {
        "height": 0.8,
        "width": 0.8,
        "x": 0.1,
        "y": 0.1
       },
       "content": {
        "cell": "80be6133-d85a-4e43-9964-6578abcbaaac",
        "part": "whole"
       },
       "id": "f2340145-4108-4fed-a0bc-4b91ca6c10ae"
      }
     }
    },
    "5c2c8cc8-3676-4c06-b94c-d3f866ade69b": {
     "id": "5c2c8cc8-3676-4c06-b94c-d3f866ade69b",
     "prev": "6c4bc874-f3fc-472c-a81c-cd415b91c24b",
     "regions": {
      "e1de7ab6-4ef2-4b14-92d7-b174bf32806e": {
       "attrs": {
        "height": 0.8,
        "width": 0.8,
        "x": 0.1,
        "y": 0.1
       },
       "content": {
        "cell": "ae8725fa-30f7-4d7f-a2c2-5f86953d730b",
        "part": "whole"
       },
       "id": "e1de7ab6-4ef2-4b14-92d7-b174bf32806e"
      }
     }
    },
    "5cab5674-74dc-4378-93d7-eaa79e90cdae": {
     "id": "5cab5674-74dc-4378-93d7-eaa79e90cdae",
     "prev": "ba274d18-2760-4e55-ad47-2727b824fd00",
     "regions": {
      "2178d7cf-bf1e-4850-95a2-1509f15febfa": {
       "attrs": {
        "height": 0.8,
        "width": 0.8,
        "x": 0.1,
        "y": 0.1
       },
       "content": {
        "cell": "5d433d13-f44a-45bb-91fd-406f60b33b67",
        "part": "whole"
       },
       "id": "2178d7cf-bf1e-4850-95a2-1509f15febfa"
      }
     }
    },
    "638df7e1-84d1-4fd4-a15c-c94b731d1bea": {
     "id": "638df7e1-84d1-4fd4-a15c-c94b731d1bea",
     "prev": "b9dddf99-da24-46e1-81d4-8ac33b6fc3a3",
     "regions": {
      "deba8b1f-d997-4426-8f1b-978df7f19b41": {
       "attrs": {
        "height": 0.8,
        "width": 0.8,
        "x": 0.1,
        "y": 0.1
       },
       "content": {
        "cell": "7adaaf8f-a83e-456b-b99a-d3b3d4cb6d1a",
        "part": "whole"
       },
       "id": "deba8b1f-d997-4426-8f1b-978df7f19b41"
      }
     }
    },
    "6bda9eb4-0724-4e53-9971-131d0cb5f9e2": {
     "id": "6bda9eb4-0724-4e53-9971-131d0cb5f9e2",
     "prev": "ee33e624-cd65-4b8c-b28b-c95623a56dbf",
     "regions": {
      "feffbbd2-27d1-4318-8359-7d57583ee2bc": {
       "attrs": {
        "height": 0.8,
        "width": 0.8,
        "x": 0.1,
        "y": 0.1
       },
       "content": {
        "cell": "8dce188c-36b7-41fa-9020-b5cb5502e452",
        "part": "whole"
       },
       "id": "feffbbd2-27d1-4318-8359-7d57583ee2bc"
      }
     }
    },
    "6c4bc874-f3fc-472c-a81c-cd415b91c24b": {
     "id": "6c4bc874-f3fc-472c-a81c-cd415b91c24b",
     "prev": null,
     "regions": {
      "c9eac7e8-d033-4b03-8bf7-abd58ffe8d41": {
       "attrs": {
        "height": 0.8,
        "width": 0.8,
        "x": 0.1,
        "y": 0.1
       },
       "content": {
        "cell": "71219fc3-c9cb-4700-9f0b-ab38b1b223da",
        "part": "whole"
       },
       "id": "c9eac7e8-d033-4b03-8bf7-abd58ffe8d41"
      }
     }
    },
    "6d7ab34f-9d99-4c74-9877-27b25abc73f0": {
     "id": "6d7ab34f-9d99-4c74-9877-27b25abc73f0",
     "prev": "febe7de9-9362-4079-bfe9-2d4dfddf00e2",
     "regions": {
      "2ee252de-db5f-43e7-b4b7-7f59bba29962": {
       "attrs": {
        "height": 0.8,
        "width": 0.8,
        "x": 0.1,
        "y": 0.1
       },
       "content": {
        "cell": "85d1ab90-cc65-4935-808b-a6f57ecc892e",
        "part": "whole"
       },
       "id": "2ee252de-db5f-43e7-b4b7-7f59bba29962"
      }
     }
    },
    "7ea582c3-439d-4ec2-9f27-dea18bcacc31": {
     "id": "7ea582c3-439d-4ec2-9f27-dea18bcacc31",
     "prev": "f0727a74-61a1-48c1-94a5-3e7490c29f0b",
     "regions": {
      "652960af-b61f-4c36-b122-3eacd714867b": {
       "attrs": {
        "height": 0.8,
        "width": 0.8,
        "x": 0.1,
        "y": 0.1
       },
       "content": {
        "cell": "86172e20-fe16-447d-859f-24a81e563011",
        "part": "whole"
       },
       "id": "652960af-b61f-4c36-b122-3eacd714867b"
      }
     }
    },
    "8b078b7a-c2c6-4129-a19f-2a4f5c4a26f3": {
     "id": "8b078b7a-c2c6-4129-a19f-2a4f5c4a26f3",
     "prev": "5cab5674-74dc-4378-93d7-eaa79e90cdae",
     "regions": {
      "dce1e605-9342-414d-b8c6-7dcb922fbf47": {
       "attrs": {
        "height": 0.8,
        "width": 0.8,
        "x": 0.1,
        "y": 0.1
       },
       "content": {
        "cell": "ee1bdf03-6e13-4f1f-9dc9-22d4e344fdba",
        "part": "whole"
       },
       "id": "dce1e605-9342-414d-b8c6-7dcb922fbf47"
      }
     }
    },
    "999513ad-b53e-4d84-b9ef-ed37967f74d6": {
     "id": "999513ad-b53e-4d84-b9ef-ed37967f74d6",
     "prev": "638df7e1-84d1-4fd4-a15c-c94b731d1bea",
     "regions": {
      "2e85c1b2-3c30-413e-9b0f-141281da3a2a": {
       "attrs": {
        "height": 0.8,
        "width": 0.8,
        "x": 0.1,
        "y": 0.1
       },
       "content": {
        "cell": "998dc7f5-ab6d-4fb8-866f-4fa96a06aaaa",
        "part": "whole"
       },
       "id": "2e85c1b2-3c30-413e-9b0f-141281da3a2a"
      }
     }
    },
    "9add3d79-8621-4167-8e1d-d4ae48fba71b": {
     "id": "9add3d79-8621-4167-8e1d-d4ae48fba71b",
     "prev": "7ea582c3-439d-4ec2-9f27-dea18bcacc31",
     "regions": {
      "d5f4537e-4d8c-4179-b14b-6c475f50b04e": {
       "attrs": {
        "height": 0.8,
        "width": 0.8,
        "x": 0.1,
        "y": 0.1
       },
       "content": {
        "cell": "9659b1c1-9aed-4d71-b830-4a60d408ad71",
        "part": "whole"
       },
       "id": "d5f4537e-4d8c-4179-b14b-6c475f50b04e"
      }
     }
    },
    "9bfe6214-4631-45b5-a05e-8923f178bb57": {
     "id": "9bfe6214-4631-45b5-a05e-8923f178bb57",
     "prev": "30509a9a-dbd8-4dbd-9fab-852a7266d894",
     "regions": {
      "aac53254-d149-49f2-8f92-670c6f2714bb": {
       "attrs": {
        "height": 0.8,
        "width": 0.8,
        "x": 0.1,
        "y": 0.1
       },
       "content": {
        "cell": "c71a78d7-9d0e-4825-9c84-9998f971317d",
        "part": "whole"
       },
       "id": "aac53254-d149-49f2-8f92-670c6f2714bb"
      }
     }
    },
    "b9dddf99-da24-46e1-81d4-8ac33b6fc3a3": {
     "id": "b9dddf99-da24-46e1-81d4-8ac33b6fc3a3",
     "prev": "1390653e-bdb6-444a-b611-39c60ffb77a1",
     "regions": {
      "0b31dbb4-f15b-4a16-9420-c5dc8ed4e871": {
       "attrs": {
        "height": 0.8,
        "width": 0.8,
        "x": 0.1,
        "y": 0.1
       },
       "content": {
        "cell": "d0569bb0-fad8-48b7-8d48-0066bfb90401",
        "part": "whole"
       },
       "id": "0b31dbb4-f15b-4a16-9420-c5dc8ed4e871"
      }
     }
    },
    "ba274d18-2760-4e55-ad47-2727b824fd00": {
     "id": "ba274d18-2760-4e55-ad47-2727b824fd00",
     "prev": "ed47079d-58cf-4b87-a9fa-a709d8a7c3c6",
     "regions": {
      "13000b51-bd66-4fb5-970b-20bfad440880": {
       "attrs": {
        "height": 0.8,
        "width": 0.8,
        "x": 0.1,
        "y": 0.1
       },
       "content": {
        "cell": "f6847886-4044-43a7-9edd-f18efddcb7a9",
        "part": "whole"
       },
       "id": "13000b51-bd66-4fb5-970b-20bfad440880"
      }
     }
    },
    "ed47079d-58cf-4b87-a9fa-a709d8a7c3c6": {
     "id": "ed47079d-58cf-4b87-a9fa-a709d8a7c3c6",
     "prev": "9add3d79-8621-4167-8e1d-d4ae48fba71b",
     "regions": {
      "a96aea94-1714-4020-83f9-dbc03e9fd55e": {
       "attrs": {
        "height": 0.8,
        "width": 0.8,
        "x": 0.1,
        "y": 0.1
       },
       "content": {
        "cell": "5a579720-fa62-4525-85e3-dd049cbd73be",
        "part": "whole"
       },
       "id": "a96aea94-1714-4020-83f9-dbc03e9fd55e"
      }
     }
    },
    "ee33e624-cd65-4b8c-b28b-c95623a56dbf": {
     "id": "ee33e624-cd65-4b8c-b28b-c95623a56dbf",
     "prev": "999513ad-b53e-4d84-b9ef-ed37967f74d6",
     "regions": {
      "325ae98d-0855-4d16-8408-6d12f47efa24": {
       "attrs": {
        "height": 0.8,
        "width": 0.8,
        "x": 0.1,
        "y": 0.1
       },
       "content": {
        "cell": "829150e0-712b-4739-92d6-37b9c3d789cb",
        "part": "whole"
       },
       "id": "325ae98d-0855-4d16-8408-6d12f47efa24"
      }
     }
    },
    "f0727a74-61a1-48c1-94a5-3e7490c29f0b": {
     "id": "f0727a74-61a1-48c1-94a5-3e7490c29f0b",
     "prev": "6d7ab34f-9d99-4c74-9877-27b25abc73f0",
     "regions": {
      "1666081e-448d-4f80-90f2-9f26f1568cdc": {
       "attrs": {
        "height": 0.8,
        "width": 0.8,
        "x": 0.1,
        "y": 0.1
       },
       "content": {
        "cell": "d99a804c-9444-418b-bc94-3c2f064e2844",
        "part": "whole"
       },
       "id": "1666081e-448d-4f80-90f2-9f26f1568cdc"
      }
     }
    },
    "f3f10f50-4cad-4149-b308-c66e6a493a72": {
     "id": "f3f10f50-4cad-4149-b308-c66e6a493a72",
     "prev": "42d1bd80-265e-4acf-bbc1-b202afddade3",
     "regions": {
      "4fc1185f-bdb8-46fc-99bd-b8d30defeca9": {
       "attrs": {
        "height": 0.8,
        "width": 0.8,
        "x": 0.1,
        "y": 0.1
       },
       "content": {
        "cell": "9b7597e9-aaa9-4d9f-ba0d-22f43d1a3900",
        "part": "whole"
       },
       "id": "4fc1185f-bdb8-46fc-99bd-b8d30defeca9"
      }
     }
    },
    "febe7de9-9362-4079-bfe9-2d4dfddf00e2": {
     "id": "febe7de9-9362-4079-bfe9-2d4dfddf00e2",
     "prev": "6bda9eb4-0724-4e53-9971-131d0cb5f9e2",
     "regions": {
      "42348103-1cd6-4bac-b346-33cd41aea444": {
       "attrs": {
        "height": 0.8,
        "width": 0.8,
        "x": 0.1,
        "y": 0.1
       },
       "content": {
        "cell": "35a148d4-f201-4441-bf5e-8a07f93dea84",
        "part": "whole"
       },
       "id": "42348103-1cd6-4bac-b346-33cd41aea444"
      }
     }
    }
   },
   "themes": {}
  },
  "vscode": {
   "interpreter": {
    "hash": "b6befba1afefe69202721c48fe52c3abe464a3768dab028028ad927131681d2f"
   }
  }
 },
 "nbformat": 4,
 "nbformat_minor": 2
}
